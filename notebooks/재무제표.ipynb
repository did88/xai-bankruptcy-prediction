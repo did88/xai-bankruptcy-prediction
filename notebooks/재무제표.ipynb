{
 "cells": [
  {
   "cell_type": "markdown",
   "id": "3020910f",
   "metadata": {},
   "source": [
    "### 재무제표별 분류해서 합치고 저장"
   ]
  },
  {
   "cell_type": "code",
   "execution_count": 18,
   "id": "66ce97bf",
   "metadata": {},
   "outputs": [
    {
     "name": "stdout",
     "output_type": "stream",
     "text": [
      "01\n",
      "재무구분명 : ['재무제표' '연결재무제표']\n",
      "재무구분명 : ['재무상태표' '손익계산서']\n",
      "02\n",
      "재무구분명 : ['재무제표' '연결재무제표']\n",
      "재무구분명 : ['재무상태표' '손익계산서']\n",
      "03\n",
      "재무구분명 : ['재무제표' '연결재무제표']\n",
      "재무구분명 : ['재무상태표' '손익계산서']\n",
      "04\n",
      "재무구분명 : ['연결재무제표' '재무제표']\n",
      "재무구분명 : ['재무상태표' '손익계산서']\n",
      "05\n",
      "재무구분명 : ['재무제표' '연결재무제표']\n",
      "재무구분명 : ['재무상태표' '손익계산서']\n",
      "06\n",
      "재무구분명 : ['재무제표' '연결재무제표']\n",
      "재무구분명 : ['재무상태표' '손익계산서']\n",
      "07\n",
      "재무구분명 : ['연결재무제표' '재무제표']\n",
      "재무구분명 : ['재무상태표' '손익계산서']\n",
      "08\n",
      "재무구분명 : ['연결재무제표' '재무제표']\n",
      "재무구분명 : ['재무상태표' '손익계산서']\n",
      "09\n",
      "재무구분명 : ['재무제표' '연결재무제표']\n",
      "재무구분명 : ['재무상태표' '손익계산서']\n",
      "10\n",
      "재무구분명 : ['연결재무제표' '재무제표']\n",
      "재무구분명 : ['재무상태표' '손익계산서']\n",
      "11\n",
      "재무구분명 : ['연결재무제표' '재무제표']\n",
      "재무구분명 : ['재무상태표' '손익계산서']\n",
      "12\n",
      "재무구분명 : ['연결재무제표' '재무제표']\n",
      "재무구분명 : ['재무상태표' '손익계산서']\n",
      "13\n",
      "재무구분명 : ['연결재무제표' '재무제표']\n",
      "재무구분명 : ['재무상태표' '손익계산서']\n",
      "14\n",
      "재무구분명 : ['연결재무제표' '재무제표']\n",
      "재무구분명 : ['재무상태표' '손익계산서']\n",
      "15\n",
      "재무구분명 : ['연결재무제표' '재무제표']\n",
      "재무구분명 : ['재무상태표' '손익계산서']\n",
      "16\n",
      "재무구분명 : ['재무제표' '연결재무제표']\n",
      "재무구분명 : ['재무상태표' '손익계산서']\n",
      "17\n",
      "재무구분명 : ['연결재무제표' '재무제표']\n",
      "재무구분명 : ['재무상태표' '손익계산서']\n",
      "18\n",
      "재무구분명 : ['연결재무제표' '재무제표']\n",
      "재무구분명 : ['재무상태표' '손익계산서']\n",
      "19\n",
      "재무구분명 : ['연결재무제표' '재무제표']\n",
      "재무구분명 : ['재무상태표' '손익계산서']\n",
      "20\n",
      "재무구분명 : ['연결재무제표' '재무제표']\n",
      "재무구분명 : ['재무상태표' '손익계산서']\n",
      "21\n",
      "재무구분명 : ['연결재무제표' '재무제표']\n",
      "재무구분명 : ['재무상태표' '손익계산서']\n",
      "22\n",
      "재무구분명 : ['연결재무제표' '재무제표']\n",
      "재무구분명 : ['재무상태표' '손익계산서']\n",
      "23\n",
      "재무구분명 : ['연결재무제표' '재무제표']\n",
      "재무구분명 : ['재무상태표' '손익계산서']\n",
      "24\n",
      "재무구분명 : ['재무제표' '연결재무제표']\n",
      "재무구분명 : ['재무상태표' '손익계산서']\n",
      "25\n",
      "재무구분명 : ['연결재무제표' '재무제표']\n",
      "재무구분명 : ['재무상태표' '손익계산서']\n",
      "26\n",
      "재무구분명 : ['재무제표' '연결재무제표']\n",
      "재무구분명 : ['재무상태표' '손익계산서']\n",
      "27\n",
      "재무구분명 : ['재무제표' '연결재무제표']\n",
      "재무구분명 : ['재무상태표' '손익계산서']\n",
      "28\n",
      "재무구분명 : ['재무제표' '연결재무제표']\n",
      "재무구분명 : ['재무상태표' '손익계산서']\n",
      "29\n",
      "재무구분명 : ['재무제표' '연결재무제표']\n",
      "재무구분명 : ['재무상태표' '손익계산서']\n",
      "30\n",
      "재무구분명 : ['연결재무제표' '재무제표']\n",
      "재무구분명 : ['재무상태표' '손익계산서']\n",
      "31\n",
      "재무구분명 : ['재무제표' '연결재무제표']\n",
      "재무구분명 : ['재무상태표' '손익계산서']\n",
      "32\n",
      "재무구분명 : ['재무제표' '연결재무제표']\n",
      "재무구분명 : ['재무상태표' '손익계산서']\n",
      "33\n",
      "재무구분명 : ['연결재무제표' '재무제표']\n",
      "재무구분명 : ['재무상태표' '손익계산서']\n",
      "34\n",
      "재무구분명 : ['재무제표' '연결재무제표']\n",
      "재무구분명 : ['재무상태표' '손익계산서']\n",
      "35\n",
      "재무구분명 : ['연결재무제표' '재무제표']\n",
      "재무구분명 : ['재무상태표' '손익계산서']\n",
      "36\n",
      "재무구분명 : ['재무제표' '연결재무제표']\n",
      "재무구분명 : ['재무상태표' '손익계산서']\n",
      "37\n",
      "재무구분명 : ['연결재무제표' '재무제표']\n",
      "재무구분명 : ['재무상태표' '손익계산서']\n"
     ]
    }
   ],
   "source": [
    "import pandas as pd\n",
    "\n",
    "order_list = ['01','02','03','04','05','06','07','08','09'] + list(range(10, 38))\n",
    "\n",
    "for order in order_list:\n",
    "    print(order)\n",
    "    df = pd.read_excel(f\"../data/batches_2015_2023/dart_statements_2015_2023_batch_{order}.xlsx\")\n",
    "\n",
    "    # 컬럼명 한글로 변경\n",
    "    df = df.rename(columns={\n",
    "        'corp_code': '회사코드',\n",
    "        'corp_name': '회사명',\n",
    "        'stock_code': '종목코드',\n",
    "        'bsns_year': '사업연도',\n",
    "        'rcept_no': '접수번호',\n",
    "        'reprt_code': '보고서코드',\n",
    "        'fs_div': '재무구분',\n",
    "        'fs_nm': '재무구분명',\n",
    "        'sj_div': '재무제표구분',\n",
    "        'sj_nm': '재무제표명',\n",
    "        'account_nm': '계정명',\n",
    "        'thstrm_nm': '당기명',\n",
    "        'thstrm_dt': '당기일자',\n",
    "        'thstrm_amount': '당기금액',\n",
    "        'frmtrm_nm': '전기명',\n",
    "        'frmtrm_dt': '전기일자',\n",
    "        'frmtrm_amount': '전기금액',\n",
    "        'bfefrmtrm_nm': '전전기명',\n",
    "        'bfefrmtrm_dt': '전전기일자',\n",
    "        'bfefrmtrm_amount': '전전기금액',\n",
    "        'ord': '순서',\n",
    "        'currency': '통화'\n",
    "    })\n",
    "\n",
    "    # 그냥 / 연결 나누기\n",
    "    print('재무구분명 :', df['재무구분명'].unique())\n",
    "\n",
    "    재무제표 = df.loc[df['재무구분명'] == '재무제표']\n",
    "    연결재무제표 = df.loc[df['재무구분명'] == '연결재무제표']\n",
    "\n",
    "    # 재무상태표 / 손익계산서 나누기\n",
    "    print('재무구분명 :', df['재무제표명'].unique())\n",
    "\n",
    "    재무제표_재무상태표 = 재무제표.loc[재무제표['재무제표명'] == '재무상태표']\n",
    "    재무제표_손익계산서 = 재무제표.loc[재무제표['재무제표명'] == '손익계산서']\n",
    "    연결재무제표_재무상태표 = 연결재무제표.loc[연결재무제표['재무제표명'] == '재무상태표']\n",
    "    연결재무제표_손익계산서 = 연결재무제표.loc[연결재무제표['재무제표명'] == '손익계산서']\n",
    "\n",
    "    # To CSV\n",
    "    재무제표_재무상태표.to_csv(f\"../data/test/재무제표_재무상태표_{order}.csv\", encoding=\"utf-8-sig\")\n",
    "    재무제표_손익계산서.to_csv(f\"../data/test/재무제표_손익계산서_{order}.csv\", encoding=\"utf-8-sig\")\n",
    "    연결재무제표_재무상태표.to_csv(f\"../data/test/연결재무제표_재무상태표_{order}.csv\", encoding=\"utf-8-sig\")\n",
    "    연결재무제표_손익계산서.to_csv(f\"../data/test/연결재무제표_손익계산서_{order}.csv\", encoding=\"utf-8-sig\")"
   ]
  },
  {
   "cell_type": "markdown",
   "id": "a6010a48",
   "metadata": {},
   "source": [
    "### To Pivot\n",
    "- file_name 바꿔줘야함"
   ]
  },
  {
   "cell_type": "code",
   "execution_count": 38,
   "id": "8ba0392c",
   "metadata": {},
   "outputs": [
    {
     "name": "stdout",
     "output_type": "stream",
     "text": [
      "연결재무제표_손익계산서  계정명 : ['매출액' '영업이익' '법인세차감전 순이익' '당기순이익' '당기순이익(손실)' '총포괄손익' '이자비용' '영업이익(손실)'\n",
      " '영업비용' '이자수익' '순이자손익' '순수수료손익' '파생상품관련손익']\n"
     ]
    }
   ],
   "source": [
    "import glob\n",
    "# 가져오기\n",
    "file_name = \"연결재무제표_손익계산서\"\n",
    "file_list = glob.glob(f\"../data/test/{file_name}_*.csv\")\n",
    "\n",
    "dfs = []\n",
    "for file in file_list:\n",
    "    df_tmp = pd.read_csv(file)\n",
    "    dfs.append(df_tmp)\n",
    "\n",
    "# 모든 재무제표_재무상태표 파일을 하나의 데이터프레임으로 합치기\n",
    "all = pd.concat(dfs, ignore_index=True)\n",
    "\n",
    "# 'all'의 '당기금액' 컬럼을 숫자형으로 변환 (천 단위 구분기호 등 처리)\n",
    "all['당기금액'] = pd.to_numeric(all['당기금액'].str.replace(',', ''), errors='coerce')\n",
    "\n",
    "print(file_name, ' 계정명 :', all['계정명'].unique())\n",
    "\n",
    "# To Pivot\n",
    "pivot_df = all.pivot_table(\n",
    "    index=['회사코드', '회사명', '종목코드', '사업연도'],\n",
    "    columns='계정명',\n",
    "    values='당기금액',\n",
    "    aggfunc='first'\n",
    ").reset_index()\n",
    "\n",
    "# 내보내기\n",
    "pivot_df.to_csv(f\"../data/raw/{file_name}.csv\", encoding=\"utf-8-sig\")"
   ]
  },
  {
   "cell_type": "markdown",
   "id": "6f01aad0",
   "metadata": {},
   "source": [
    "### 재무제표_재무상태표 / 재무재표_손익계산서 Non-Null 분포"
   ]
  },
  {
   "cell_type": "code",
   "execution_count": null,
   "id": "56fbdd8d",
   "metadata": {},
   "outputs": [
    {
     "data": {
      "image/png": "[encoded data removed]",
      "text/plain": [
       "<Figure size 1200x500 with 1 Axes>"
      ]
     },
     "metadata": {},
     "output_type": "display_data"
    }
   ],
   "source": [
    "import matplotlib.pyplot as plt\n",
    "\n",
    "손익 = pd.read_csv(\"../data/raw/재무제표_손익계산서.csv\")\n",
    "# 5~18번 컬럼명 추출\n",
    "cols = 손익.columns[5:19]\n",
    "\n",
    "# 한글 폰트 설정 (예: 맑은 고딕)\n",
    "plt.rc('font', family='Malgun Gothic')\n",
    "\n",
    "# 각 컬럼별 non-null count 계산\n",
    "count_series = 손익[cols].count()\n",
    "\n",
    "# plot\n",
    "count_series.plot(kind='bar', figsize=(12, 5))\n",
    "plt.title(f'{file_name} 각 컬럼별 Non-null 값 개수')\n",
    "plt.ylabel('Count')\n",
    "plt.xlabel('컬럼명')\n",
    "plt.show()"
   ]
  },
  {
   "cell_type": "code",
   "execution_count": 58,
   "id": "0480ee29",
   "metadata": {},
   "outputs": [
    {
     "data": {
      "image/png": "[encoded data removed]",
      "text/plain": [
       "<Figure size 1200x500 with 1 Axes>"
      ]
     },
     "metadata": {},
     "output_type": "display_data"
    }
   ],
   "source": [
    "import matplotlib.pyplot as plt\n",
    "\n",
    "상태 = pd.read_csv(\"../data/raw/재무제표_재무상태표.csv\")\n",
    "\n",
    "# 5~23번 컬럼명 추출\n",
    "cols = 상태.columns[5:23]\n",
    "\n",
    "# 한글 폰트 설정 (예: 맑은 고딕)\n",
    "plt.rc('font', family='Malgun Gothic')\n",
    "\n",
    "# 각 컬럼별 non-null count 계산\n",
    "count_series = 상태[cols].count()\n",
    "\n",
    "# plot\n",
    "count_series.plot(kind='bar', figsize=(12, 5))\n",
    "plt.title(f'{file_name} 각 컬럼별 Non-null 값 개수')\n",
    "plt.ylabel('Count')\n",
    "plt.xlabel('컬럼명')\n",
    "plt.show()"
   ]
  },
  {
   "cell_type": "markdown",
   "id": "5459acfc",
   "metadata": {},
   "source": [
    "### 재무상태표, 손익계산서 피처 만들기\n",
    "- 1차\n",
    "  - 부채비율 유동비율 자기자본비율 고정자산비율 고정비율 순운전자본비율 ln자산총계 총자산이익잉여금비율 ln매출액 매출액순이익률"
   ]
  },
  {
   "cell_type": "code",
   "execution_count": 5,
   "id": "84b631e3",
   "metadata": {},
   "outputs": [
    {
     "data": {
      "text/plain": [
       "Index(['Unnamed: 0', '회사코드', '회사명', '종목코드', '사업연도', '기타포괄손익-공정가치측정금융자산',\n",
       "       '당기손익-공정가치측정금융자산', '보험계약부채', '보험계약자산', '부채총계', '비유동부채', '비유동자산',\n",
       "       '상각후원가측정금융자산', '예수부채', '유동부채', '유동자산', '이익잉여금', '자본금', '자본총계', '자산총계',\n",
       "       '차입부채', '파생상품부채', '파생상품자산'],\n",
       "      dtype='object')"
      ]
     },
     "execution_count": 5,
     "metadata": {},
     "output_type": "execute_result"
    }
   ],
   "source": [
    "import pandas as pd\n",
    "\n",
    "balance_sheet = pd.read_csv(\"../data/raw/재무제표_재무상태표.csv\")\n",
    "balance_sheet.columns"
   ]
  },
  {
   "cell_type": "code",
   "execution_count": 4,
   "id": "aa040342",
   "metadata": {},
   "outputs": [
    {
     "data": {
      "text/plain": [
       "Index(['Unnamed: 0', '회사코드', '회사명', '종목코드', '사업연도', '금융상품관련순손익', '당기순이익',\n",
       "       '당기순이익(손실)', '매출액', '법인세차감전 순이익', '순수수료손익', '순이자손익', '영업비용', '영업이익',\n",
       "       '영업이익(손실)', '이자비용', '이자수익', '총포괄손익', '파생상품관련손익'],\n",
       "      dtype='object')"
      ]
     },
     "execution_count": 4,
     "metadata": {},
     "output_type": "execute_result"
    }
   ],
   "source": [
    "income_statement = pd.read_csv(\"../data/raw/재무제표_손익계산서.csv\")\n",
    "income_statement.columns"
   ]
  },
  {
   "cell_type": "code",
   "execution_count": 6,
   "id": "76df439e",
   "metadata": {},
   "outputs": [
    {
     "data": {
      "text/plain": [
       "Index(['Unnamed: 0', '재무제표종류', '종목코드', '회사명', '시장구분', '업종', '업종명', '통화',\n",
       "       '결산기준일', '기말의현금', '기초의현금', '영업활동현금흐름', '재무활동현금흐름', '투자활동현금흐름'],\n",
       "      dtype='object')"
      ]
     },
     "execution_count": 6,
     "metadata": {},
     "output_type": "execute_result"
    }
   ],
   "source": [
    "cash_flow = pd.read_csv(\"../data/raw/현금흐름표_간접법_별도_12월.csv\")\n",
    "cash_flow.columns"
   ]
  },
  {
   "cell_type": "code",
   "execution_count": 7,
   "id": "9db51cdb",
   "metadata": {},
   "outputs": [],
   "source": [
    "bs = balance_sheet.copy()\n",
    "iis = income_statement.copy()\n",
    "cf = cash_flow.copy()"
   ]
  },
  {
   "cell_type": "code",
   "execution_count": 13,
   "id": "6938310e",
   "metadata": {},
   "outputs": [],
   "source": [
    "cf['사업연도'] = cf['결산기준일'].str[:4]\n",
    "bs['사업연도'] = bs['사업연도'].astype(str)\n",
    "iis['사업연도'] = iis['사업연도'].astype(str)"
   ]
  },
  {
   "cell_type": "code",
   "execution_count": null,
   "id": "2c2d9fd0",
   "metadata": {},
   "outputs": [],
   "source": [
    "# 건전성\n",
    "bs['부채비율'] = (bs['부채총계'] / bs['자본총계'])\n",
    "bs['유동비율'] = (bs['유동자산'] / bs['유동부채'])\n",
    "bs['자기자본비율'] = (bs['자본총계'] / bs['자산총계'])\n",
    "bs['고정자산비율'] = (bs['비유동자산'] / bs['자산총계'])\n",
    "bs['고정비율'] = (bs['비유동자산'] / bs['자본총계'])\n",
    "bs['순운전자본비율'] = ((bs['유동자산'] - bs['유동부채']) / bs['자산총계'])"
   ]
  },
  {
   "cell_type": "code",
   "execution_count": 15,
   "id": "b2e138d7",
   "metadata": {},
   "outputs": [
    {
     "name": "stderr",
     "output_type": "stream",
     "text": [
      "c:\\Users\\tktk5\\Downloads\\RiskRadar\\.venv\\Lib\\site-packages\\pandas\\core\\arraylike.py:399: RuntimeWarning: divide by zero encountered in log\n",
      "  result = getattr(ufunc, method)(*inputs, **kwargs)\n"
     ]
    }
   ],
   "source": [
    "import numpy as np\n",
    "\n",
    "# 규모\n",
    "bs['ln자산총계'] = np.log(bs['자산총계'])"
   ]
  },
  {
   "cell_type": "code",
   "execution_count": 17,
   "id": "dab433e0",
   "metadata": {},
   "outputs": [],
   "source": [
    "# 수익성\n",
    "bs['총자산이익잉여금비율'] = (bs['이익잉여금'] / bs['자산총계'])"
   ]
  },
  {
   "cell_type": "code",
   "execution_count": 18,
   "id": "097a60ca",
   "metadata": {},
   "outputs": [],
   "source": [
    "# 수익성\n",
    "iis['매출액순이익률'] = iis['당기순이익'] / iis['매출액']"
   ]
  },
  {
   "cell_type": "code",
   "execution_count": null,
   "id": "f100494f",
   "metadata": {},
   "outputs": [
    {
     "name": "stderr",
     "output_type": "stream",
     "text": [
      "c:\\Users\\tktk5\\Downloads\\RiskRadar\\.venv\\Lib\\site-packages\\pandas\\core\\arraylike.py:399: RuntimeWarning: divide by zero encountered in log\n",
      "  result = getattr(ufunc, method)(*inputs, **kwargs)\n",
      "c:\\Users\\tktk5\\Downloads\\RiskRadar\\.venv\\Lib\\site-packages\\pandas\\core\\arraylike.py:399: RuntimeWarning: invalid value encountered in log\n",
      "  result = getattr(ufunc, method)(*inputs, **kwargs)\n"
     ]
    }
   ],
   "source": [
    "# 규모\n",
    "iis['ln매출액'] = np.log(iis['매출액'])"
   ]
  },
  {
   "cell_type": "code",
   "execution_count": 21,
   "id": "a5598d06",
   "metadata": {},
   "outputs": [
    {
     "data": {
      "text/html": [
       "<div>\n",
       "<style scoped>\n",
       "    .dataframe tbody tr th:only-of-type {\n",
       "        vertical-align: middle;\n",
       "    }\n",
       "\n",
       "    .dataframe tbody tr th {\n",
       "        vertical-align: top;\n",
       "    }\n",
       "\n",
       "    .dataframe thead th {\n",
       "        text-align: right;\n",
       "    }\n",
       "</style>\n",
       "<table border=\"1\" class=\"dataframe\">\n",
       "  <thead>\n",
       "    <tr style=\"text-align: right;\">\n",
       "      <th></th>\n",
       "      <th>사업연도</th>\n",
       "      <th>회사명</th>\n",
       "      <th>부채비율</th>\n",
       "      <th>유동비율</th>\n",
       "      <th>자기자본비율</th>\n",
       "      <th>고정자산비율</th>\n",
       "      <th>고정비율</th>\n",
       "      <th>순운전자본비율</th>\n",
       "      <th>ln자산총계</th>\n",
       "      <th>총자산이익잉여금비율</th>\n",
       "      <th>ln매출액</th>\n",
       "      <th>매출액순이익률</th>\n",
       "    </tr>\n",
       "  </thead>\n",
       "  <tbody>\n",
       "    <tr>\n",
       "      <th>0</th>\n",
       "      <td>2015</td>\n",
       "      <td>3S</td>\n",
       "      <td>0.763604</td>\n",
       "      <td>0.694608</td>\n",
       "      <td>0.567021</td>\n",
       "      <td>0.775610</td>\n",
       "      <td>1.367869</td>\n",
       "      <td>-0.098656</td>\n",
       "      <td>24.919477</td>\n",
       "      <td>-0.285427</td>\n",
       "      <td>23.772739</td>\n",
       "      <td>-0.262422</td>\n",
       "    </tr>\n",
       "    <tr>\n",
       "      <th>1</th>\n",
       "      <td>2015</td>\n",
       "      <td>AJ네트웍스</td>\n",
       "      <td>1.336227</td>\n",
       "      <td>0.412123</td>\n",
       "      <td>0.428041</td>\n",
       "      <td>0.850102</td>\n",
       "      <td>1.986031</td>\n",
       "      <td>-0.213824</td>\n",
       "      <td>27.141447</td>\n",
       "      <td>NaN</td>\n",
       "      <td>26.004031</td>\n",
       "      <td>0.097113</td>\n",
       "    </tr>\n",
       "    <tr>\n",
       "      <th>2</th>\n",
       "      <td>2015</td>\n",
       "      <td>AK홀딩스</td>\n",
       "      <td>0.115549</td>\n",
       "      <td>0.074425</td>\n",
       "      <td>0.896420</td>\n",
       "      <td>0.992424</td>\n",
       "      <td>1.107097</td>\n",
       "      <td>-0.094216</td>\n",
       "      <td>26.981501</td>\n",
       "      <td>0.350460</td>\n",
       "      <td>23.736496</td>\n",
       "      <td>1.072212</td>\n",
       "    </tr>\n",
       "    <tr>\n",
       "      <th>3</th>\n",
       "      <td>2015</td>\n",
       "      <td>APS</td>\n",
       "      <td>1.445113</td>\n",
       "      <td>1.040981</td>\n",
       "      <td>0.408979</td>\n",
       "      <td>0.467747</td>\n",
       "      <td>1.143695</td>\n",
       "      <td>0.020954</td>\n",
       "      <td>26.289558</td>\n",
       "      <td>0.189401</td>\n",
       "      <td>26.346126</td>\n",
       "      <td>0.033888</td>\n",
       "    </tr>\n",
       "    <tr>\n",
       "      <th>4</th>\n",
       "      <td>2015</td>\n",
       "      <td>AP위성</td>\n",
       "      <td>0.120534</td>\n",
       "      <td>8.092935</td>\n",
       "      <td>0.892432</td>\n",
       "      <td>0.199405</td>\n",
       "      <td>0.223440</td>\n",
       "      <td>0.701670</td>\n",
       "      <td>24.463482</td>\n",
       "      <td>0.402504</td>\n",
       "      <td>24.319690</td>\n",
       "      <td>0.241527</td>\n",
       "    </tr>\n",
       "  </tbody>\n",
       "</table>\n",
       "</div>"
      ],
      "text/plain": [
       "   사업연도     회사명      부채비율      유동비율    자기자본비율    고정자산비율      고정비율   순운전자본비율  \\\n",
       "0  2015      3S  0.763604  0.694608  0.567021  0.775610  1.367869 -0.098656   \n",
       "1  2015  AJ네트웍스  1.336227  0.412123  0.428041  0.850102  1.986031 -0.213824   \n",
       "2  2015   AK홀딩스  0.115549  0.074425  0.896420  0.992424  1.107097 -0.094216   \n",
       "3  2015     APS  1.445113  1.040981  0.408979  0.467747  1.143695  0.020954   \n",
       "4  2015    AP위성  0.120534  8.092935  0.892432  0.199405  0.223440  0.701670   \n",
       "\n",
       "      ln자산총계  총자산이익잉여금비율      ln매출액   매출액순이익률  \n",
       "0  24.919477   -0.285427  23.772739 -0.262422  \n",
       "1  27.141447         NaN  26.004031  0.097113  \n",
       "2  26.981501    0.350460  23.736496  1.072212  \n",
       "3  26.289558    0.189401  26.346126  0.033888  \n",
       "4  24.463482    0.402504  24.319690  0.241527  "
      ]
     },
     "execution_count": 21,
     "metadata": {},
     "output_type": "execute_result"
    }
   ],
   "source": [
    "# 필요한 컬럼만 추출\n",
    "bs_cols = ['사업연도', '회사명', '부채비율', '유동비율', '자기자본비율', '고정자산비율', '고정비율', '순운전자본비율', 'ln자산총계', '총자산이익잉여금비율']\n",
    "iis_cols = ['사업연도', '회사명', 'ln매출액', '매출액순이익률']\n",
    "\n",
    "bs_sel = bs[bs_cols]\n",
    "iis_sel = iis[iis_cols]\n",
    "\n",
    "# 머지\n",
    "merged = pd.merge(bs_sel, iis_sel, on=['사업연도', '회사명'], how='outer')\n",
    "merged.head()"
   ]
  },
  {
   "cell_type": "code",
   "execution_count": 23,
   "id": "ee98ebdd",
   "metadata": {},
   "outputs": [
    {
     "name": "stdout",
     "output_type": "stream",
     "text": [
      "<class 'pandas.core.frame.DataFrame'>\n",
      "RangeIndex: 18354 entries, 0 to 18353\n",
      "Data columns (total 12 columns):\n",
      " #   Column      Non-Null Count  Dtype  \n",
      "---  ------      --------------  -----  \n",
      " 0   사업연도        18354 non-null  object \n",
      " 1   회사명         18354 non-null  object \n",
      " 2   부채비율        18296 non-null  float64\n",
      " 3   유동비율        18279 non-null  float64\n",
      " 4   자기자본비율      18278 non-null  float64\n",
      " 5   고정자산비율      18228 non-null  float64\n",
      " 6   고정비율        18196 non-null  float64\n",
      " 7   순운전자본비율     18257 non-null  float64\n",
      " 8   ln자산총계      18331 non-null  float64\n",
      " 9   총자산이익잉여금비율  18023 non-null  float64\n",
      " 10  ln매출액       17778 non-null  float64\n",
      " 11  매출액순이익률     17734 non-null  float64\n",
      "dtypes: float64(10), object(2)\n",
      "memory usage: 1.7+ MB\n"
     ]
    },
    {
     "data": {
      "text/plain": [
       "(사업연도            0\n",
       " 회사명             0\n",
       " 부채비율           58\n",
       " 유동비율           75\n",
       " 자기자본비율         76\n",
       " 고정자산비율        126\n",
       " 고정비율          158\n",
       " 순운전자본비율        97\n",
       " ln자산총계         23\n",
       " 총자산이익잉여금비율    331\n",
       " ln매출액         576\n",
       " 매출액순이익률       620\n",
       " dtype: int64,\n",
       " None)"
      ]
     },
     "execution_count": 23,
     "metadata": {},
     "output_type": "execute_result"
    }
   ],
   "source": [
    "merged.isna().sum(), merged.info()"
   ]
  },
  {
   "cell_type": "code",
   "execution_count": 24,
   "id": "aef8380b",
   "metadata": {},
   "outputs": [],
   "source": [
    "merged.to_csv(\"../data/processed/features_v1.csv\", encoding=\"utf-8-sig\")"
   ]
  }
 ],
 "metadata": {
  "kernelspec": {
   "display_name": ".venv",
   "language": "python",
   "name": "python3"
  },
  "language_info": {
   "codemirror_mode": {
    "name": "ipython",
    "version": 3
   },
   "file_extension": ".py",
   "mimetype": "text/x-python",
   "name": "python",
   "nbconvert_exporter": "python",
   "pygments_lexer": "ipython3",
   "version": "3.11.3"
  }
 },
 "nbformat": 4,
 "nbformat_minor": 5
}
