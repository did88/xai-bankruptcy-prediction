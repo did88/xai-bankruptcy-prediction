{
 "cells": [
  {
   "cell_type": "code",
   "execution_count": 2,
   "id": "e1954bfd",
   "metadata": {},
   "outputs": [
    {
     "name": "stdout",
     "output_type": "stream",
     "text": [
      "account_nm corp_name  bsns_year          부채총계         비유동자산          유동자산  \\\n",
      "0                 3S       2015  2.942016e+10  5.129089e+10  1.606908e+10   \n",
      "1                 3S       2016  2.314263e+10  4.431972e+10  1.342667e+10   \n",
      "2                 3S       2017  2.452724e+10  3.699403e+10  1.671287e+10   \n",
      "3                 3S       2018  1.876866e+10  3.671933e+10  1.280167e+10   \n",
      "4                 3S       2019  1.895754e+10  3.524989e+10  1.807934e+10   \n",
      "\n",
      "account_nm          자본총계          자산총계  \n",
      "0           3.793981e+10  6.735997e+10  \n",
      "1           3.460376e+10  5.774639e+10  \n",
      "2           2.917967e+10  5.370690e+10  \n",
      "3           3.075234e+10  4.952100e+10  \n",
      "4           3.437168e+10  5.332922e+10  \n"
     ]
    }
   ],
   "source": [
    "import pandas as pd\n",
    "import numpy as np\n",
    "import os\n",
    "\n",
    "# 0. 경로 설정\n",
    "file_path = 'dart_statements_merged.xlsx'\n",
    "output_path = '../data/processed/dart_bs_wide.csv'\n",
    "\n",
    "# 1. 데이터 불러오기\n",
    "df = pd.read_excel(file_path, sheet_name='Sheet1')\n",
    "\n",
    "# 2. 재무상태표(BS) 필터링\n",
    "bs_df = df[df['sj_div'] == 'BS']\n",
    "\n",
    "# 3. 주요 항목 설정\n",
    "target_accounts = [\n",
    "    '자산총계', '유동자산', '비유동자산',\n",
    "    '부채총계', '자본총계'\n",
    "]\n",
    "bs_df = bs_df[bs_df['account_nm'].isin(target_accounts)]\n",
    "\n",
    "# 4. wide-format 변환\n",
    "wide_df = bs_df.pivot_table(\n",
    "    index=['corp_name', 'bsns_year'],\n",
    "    columns='account_nm',\n",
    "    values='thstrm_amount',\n",
    "    aggfunc='first'\n",
    ").reset_index()\n",
    "\n",
    "# 5. 문자열 → 숫자 변환 (콤마 제거 + '-' → NaN 처리)\n",
    "for col in target_accounts:\n",
    "    wide_df[col] = (\n",
    "        wide_df[col]\n",
    "        .replace({',': '', '-': np.nan}, regex=True)\n",
    "        .astype(float)\n",
    "    )\n",
    "\n",
    "# 6. 결측값 처리 방법 선택\n",
    "fillna_strategy = 'mean'  # 'zero' 또는 'mean' 중 선택\n",
    "\n",
    "if fillna_strategy == 'zero':\n",
    "    wide_df[target_accounts] = wide_df[target_accounts].fillna(0)\n",
    "elif fillna_strategy == 'mean':\n",
    "    wide_df[target_accounts] = wide_df[target_accounts].fillna(wide_df[target_accounts].mean())\n",
    "\n",
    "# 7. 결과 저장\n",
    "os.makedirs(os.path.dirname(output_path), exist_ok=True)\n",
    "wide_df.to_csv(output_path, index=False)\n",
    "\n",
    "# 8. 미리보기\n",
    "print(wide_df.head())\n"
   ]
  }
 ],
 "metadata": {
  "kernelspec": {
   "display_name": "Python 3",
   "language": "python",
   "name": "python3"
  },
  "language_info": {
   "codemirror_mode": {
    "name": "ipython",
    "version": 3
   },
   "file_extension": ".py",
   "mimetype": "text/x-python",
   "name": "python",
   "nbconvert_exporter": "python",
   "pygments_lexer": "ipython3",
   "version": "3.11.9"
  }
 },
 "nbformat": 4,
 "nbformat_minor": 5
}
