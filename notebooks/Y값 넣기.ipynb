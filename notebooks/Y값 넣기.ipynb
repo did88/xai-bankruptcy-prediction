{
 "cells": [
  {
   "cell_type": "code",
   "execution_count": 2,
   "id": "39ddedd1",
   "metadata": {},
   "outputs": [
    {
     "name": "stdout",
     "output_type": "stream",
     "text": [
      "상장폐지 기업 매칭 결과:\n",
      "전체 기업 수: 21833\n",
      "상장폐지 기업 수: 92\n",
      "정상 기업 수: 21741\n",
      "\n",
      "상장폐지 기업 예시 (상위 10개):\n",
      "        corp_nm  stock_code  year\n",
      "389       (주)금빛       45890  2020\n",
      "702      (주)넥솔론      110570  2016\n",
      "705      (주)넥스지       81970  2017\n",
      "951      (주)뉴로스      126870  2021\n",
      "1196  (주)대성합동지주        5620  2016\n",
      "1468    (주)데코앤이       17680  2018\n",
      "1609    (주)동성화학        5190  2020\n",
      "2526  (주)매직마이크로      127160  2020\n",
      "2541    (주)맥스로텍      141070  2020\n",
      "2693      (주)모다      149940  2019\n",
      "\n",
      "결과가 'ts2000_with_default_flag.csv' 파일로 저장되었습니다.\n"
     ]
    }
   ],
   "source": [
    "import pandas as pd\n",
    "\n",
    "# CSV 파일 읽기\n",
    "ts2000_df = pd.read_csv('ts2000_winsorized.csv')\n",
    "delisted_df = pd.read_csv('상장폐지기업_v2.csv')\n",
    "\n",
    "# 종목코드를 6자리 문자열로 변환하는 함수\n",
    "def format_stock_code(code):\n",
    "    \"\"\"종목코드를 6자리 문자열로 변환 (앞자리 0으로 채움)\"\"\"\n",
    "    return str(code).zfill(6)\n",
    "\n",
    "# ts2000_df의 stock_code를 6자리 문자열로 변환\n",
    "ts2000_df['stock_code_formatted'] = ts2000_df['stock_code'].apply(format_stock_code)\n",
    "\n",
    "# 상장폐지 기업의 종목코드를 6자리 문자열로 변환\n",
    "delisted_df['종목코드_formatted'] = delisted_df['종목코드'].apply(format_stock_code)\n",
    "\n",
    "# 상장폐지 종목코드 세트 생성 (빠른 검색을 위해)\n",
    "delisted_codes = set(delisted_df['종목코드_formatted'])\n",
    "\n",
    "# 먼저 모든 기업을 0으로 초기화\n",
    "ts2000_df['is_defaulted'] = 0\n",
    "\n",
    "# 상장폐지 기업들에 대해서만 처리\n",
    "delisted_companies = ts2000_df[ts2000_df['stock_code_formatted'].isin(delisted_codes)]\n",
    "\n",
    "# 각 상장폐지 기업의 가장 마지막 연도 찾기\n",
    "for stock_code in delisted_codes:\n",
    "    company_data = ts2000_df[ts2000_df['stock_code_formatted'] == stock_code]\n",
    "    if not company_data.empty:\n",
    "        # 해당 기업의 가장 마지막 연도 찾기\n",
    "        max_year = company_data['year'].max()\n",
    "        # 해당 기업의 마지막 연도 데이터만 is_defaulted = 1로 설정\n",
    "        mask = (ts2000_df['stock_code_formatted'] == stock_code) & (ts2000_df['year'] == max_year)\n",
    "        ts2000_df.loc[mask, 'is_defaulted'] = 1\n",
    "\n",
    "# 임시로 생성한 formatted 컬럼 제거 (필요에 따라 유지 가능)\n",
    "ts2000_df = ts2000_df.drop('stock_code_formatted', axis=1)\n",
    "\n",
    "# 결과 확인\n",
    "print(\"상장폐지 기업 매칭 결과:\")\n",
    "print(f\"전체 기업 수: {len(ts2000_df)}\")\n",
    "print(f\"상장폐지 기업 수: {ts2000_df['is_defaulted'].sum()}\")\n",
    "print(f\"정상 기업 수: {(ts2000_df['is_defaulted'] == 0).sum()}\")\n",
    "\n",
    "# 상장폐지 기업 목록 확인 (샘플)\n",
    "defaulted_companies = ts2000_df[ts2000_df['is_defaulted'] == 1][['corp_nm', 'stock_code', 'year']].drop_duplicates()\n",
    "print(f\"\\n상장폐지 기업 예시 (상위 10개):\")\n",
    "print(defaulted_companies.head(10))\n",
    "\n",
    "# 결과를 새 파일로 저장\n",
    "ts2000_df.to_csv('ts2000_with_default_flag.csv', index=False, encoding='utf-8-sig')\n",
    "print(f\"\\n결과가 'ts2000_with_default_flag.csv' 파일로 저장되었습니다.\")"
   ]
  }
 ],
 "metadata": {
  "kernelspec": {
   "display_name": "Python 3",
   "language": "python",
   "name": "python3"
  },
  "language_info": {
   "codemirror_mode": {
    "name": "ipython",
    "version": 3
   },
   "file_extension": ".py",
   "mimetype": "text/x-python",
   "name": "python",
   "nbconvert_exporter": "python",
   "pygments_lexer": "ipython3",
   "version": "3.11.9"
  }
 },
 "nbformat": 4,
 "nbformat_minor": 5
}
