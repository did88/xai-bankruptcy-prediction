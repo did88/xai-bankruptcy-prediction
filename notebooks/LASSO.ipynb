{
 "cells": [
  {
   "cell_type": "code",
   "execution_count": 1,
   "metadata": {},
   "outputs": [],
   "source": [
    "import pandas as pd\n",
    "import numpy as np\n",
    "import matplotlib.pyplot as plt\n",
    "import seaborn as sns\n",
    "import warnings\n",
    "warnings.filterwarnings(action='ignore') \n",
    "\n",
    "# 한글폰트 출력 가능 코드\n",
    "plt.rcParams[\"font.family\"] = 'Malgun Gothic'\n",
    "plt.rcParams['axes.unicode_minus'] = False"
   ]
  },
  {
   "cell_type": "code",
   "execution_count": 2,
   "metadata": {},
   "outputs": [
    {
     "data": {
      "text/html": [
       "<div>\n",
       "<style scoped>\n",
       "    .dataframe tbody tr th:only-of-type {\n",
       "        vertical-align: middle;\n",
       "    }\n",
       "\n",
       "    .dataframe tbody tr th {\n",
       "        vertical-align: top;\n",
       "    }\n",
       "\n",
       "    .dataframe thead th {\n",
       "        text-align: right;\n",
       "    }\n",
       "</style>\n",
       "<table border=\"1\" class=\"dataframe\">\n",
       "  <thead>\n",
       "    <tr style=\"text-align: right;\">\n",
       "      <th></th>\n",
       "      <th>사업연도</th>\n",
       "      <th>회사명</th>\n",
       "      <th>부채비율</th>\n",
       "      <th>유동비율</th>\n",
       "      <th>자기자본비율</th>\n",
       "      <th>고정자산비율</th>\n",
       "      <th>고정비율</th>\n",
       "      <th>순운전자본비율</th>\n",
       "      <th>ln자산총계</th>\n",
       "      <th>총자산이익잉여금비율</th>\n",
       "      <th>ln매출액</th>\n",
       "      <th>매출액순이익률</th>\n",
       "    </tr>\n",
       "  </thead>\n",
       "  <tbody>\n",
       "    <tr>\n",
       "      <th>0</th>\n",
       "      <td>2015</td>\n",
       "      <td>3S</td>\n",
       "      <td>0.763604</td>\n",
       "      <td>0.694608</td>\n",
       "      <td>0.567021</td>\n",
       "      <td>0.775610</td>\n",
       "      <td>1.367869</td>\n",
       "      <td>-0.098656</td>\n",
       "      <td>24.919477</td>\n",
       "      <td>-0.285427</td>\n",
       "      <td>23.772739</td>\n",
       "      <td>-0.262422</td>\n",
       "    </tr>\n",
       "    <tr>\n",
       "      <th>1</th>\n",
       "      <td>2015</td>\n",
       "      <td>AJ네트웍스</td>\n",
       "      <td>1.336227</td>\n",
       "      <td>0.412123</td>\n",
       "      <td>0.428041</td>\n",
       "      <td>0.850102</td>\n",
       "      <td>1.986031</td>\n",
       "      <td>-0.213824</td>\n",
       "      <td>27.141447</td>\n",
       "      <td>NaN</td>\n",
       "      <td>26.004031</td>\n",
       "      <td>0.097113</td>\n",
       "    </tr>\n",
       "    <tr>\n",
       "      <th>2</th>\n",
       "      <td>2015</td>\n",
       "      <td>AK홀딩스</td>\n",
       "      <td>0.115549</td>\n",
       "      <td>0.074425</td>\n",
       "      <td>0.896420</td>\n",
       "      <td>0.992424</td>\n",
       "      <td>1.107097</td>\n",
       "      <td>-0.094216</td>\n",
       "      <td>26.981501</td>\n",
       "      <td>0.350460</td>\n",
       "      <td>23.736496</td>\n",
       "      <td>1.072212</td>\n",
       "    </tr>\n",
       "    <tr>\n",
       "      <th>3</th>\n",
       "      <td>2015</td>\n",
       "      <td>APS</td>\n",
       "      <td>1.445113</td>\n",
       "      <td>1.040981</td>\n",
       "      <td>0.408979</td>\n",
       "      <td>0.467747</td>\n",
       "      <td>1.143695</td>\n",
       "      <td>0.020954</td>\n",
       "      <td>26.289558</td>\n",
       "      <td>0.189401</td>\n",
       "      <td>26.346126</td>\n",
       "      <td>0.033888</td>\n",
       "    </tr>\n",
       "    <tr>\n",
       "      <th>4</th>\n",
       "      <td>2015</td>\n",
       "      <td>AP위성</td>\n",
       "      <td>0.120534</td>\n",
       "      <td>8.092935</td>\n",
       "      <td>0.892432</td>\n",
       "      <td>0.199405</td>\n",
       "      <td>0.223440</td>\n",
       "      <td>0.701670</td>\n",
       "      <td>24.463482</td>\n",
       "      <td>0.402504</td>\n",
       "      <td>24.319690</td>\n",
       "      <td>0.241527</td>\n",
       "    </tr>\n",
       "  </tbody>\n",
       "</table>\n",
       "</div>"
      ],
      "text/plain": [
       "   사업연도     회사명      부채비율      유동비율    자기자본비율    고정자산비율      고정비율   순운전자본비율  \\\n",
       "0  2015      3S  0.763604  0.694608  0.567021  0.775610  1.367869 -0.098656   \n",
       "1  2015  AJ네트웍스  1.336227  0.412123  0.428041  0.850102  1.986031 -0.213824   \n",
       "2  2015   AK홀딩스  0.115549  0.074425  0.896420  0.992424  1.107097 -0.094216   \n",
       "3  2015     APS  1.445113  1.040981  0.408979  0.467747  1.143695  0.020954   \n",
       "4  2015    AP위성  0.120534  8.092935  0.892432  0.199405  0.223440  0.701670   \n",
       "\n",
       "      ln자산총계  총자산이익잉여금비율      ln매출액   매출액순이익률  \n",
       "0  24.919477   -0.285427  23.772739 -0.262422  \n",
       "1  27.141447         NaN  26.004031  0.097113  \n",
       "2  26.981501    0.350460  23.736496  1.072212  \n",
       "3  26.289558    0.189401  26.346126  0.033888  \n",
       "4  24.463482    0.402504  24.319690  0.241527  "
      ]
     },
     "execution_count": 2,
     "metadata": {},
     "output_type": "execute_result"
    }
   ],
   "source": [
    "df_all = pd.read_csv(\"../data/processed/features_v1.csv\")\n",
    "df_all.drop(['Unnamed: 0'], axis=1, inplace=True)\n",
    "df_all.head()"
   ]
  },
  {
   "cell_type": "code",
   "execution_count": 13,
   "metadata": {},
   "outputs": [],
   "source": [
    "company_list = df_all['회사명'].unique()"
   ]
  },
  {
   "cell_type": "code",
   "execution_count": 3,
   "metadata": {},
   "outputs": [],
   "source": [
    "# '회사명' 컬럼을 기준으로 각 기업별로 결측치를 해당 기업의 값으로만 대체\n",
    "df_all = df_all.groupby('회사명').apply(lambda group: group.fillna(method='ffill').fillna(method='bfill')).reset_index(drop=True)"
   ]
  },
  {
   "cell_type": "code",
   "execution_count": 4,
   "metadata": {},
   "outputs": [],
   "source": [
    "# 결측치가 있는 컬럼을 평균값으로 대체\n",
    "for col in df_all.columns:\n",
    "    if df_all[col].isna().sum() > 0:\n",
    "        mean_value = df_all[col].mean()\n",
    "        df_all[col].fillna(mean_value, inplace=True)"
   ]
  },
  {
   "cell_type": "code",
   "execution_count": 5,
   "metadata": {},
   "outputs": [],
   "source": [
    "# '매출액순이익률' 컬럼의 결측치를 전체 평균값으로 대체\n",
    "mean_value = df_all['매출액순이익률'].mean()\n",
    "df_all['매출액순이익률'].fillna(mean_value, inplace=True)"
   ]
  },
  {
   "cell_type": "code",
   "execution_count": 6,
   "metadata": {},
   "outputs": [
    {
     "data": {
      "text/plain": [
       "사업연도            0\n",
       "회사명             0\n",
       "부채비율            0\n",
       "유동비율            0\n",
       "자기자본비율          0\n",
       "고정자산비율          0\n",
       "고정비율            0\n",
       "순운전자본비율         0\n",
       "ln자산총계          0\n",
       "총자산이익잉여금비율      0\n",
       "ln매출액           0\n",
       "매출액순이익률       128\n",
       "dtype: int64"
      ]
     },
     "execution_count": 6,
     "metadata": {},
     "output_type": "execute_result"
    }
   ],
   "source": [
    "df_all.isna().sum()"
   ]
  },
  {
   "cell_type": "code",
   "execution_count": null,
   "metadata": {},
   "outputs": [
    {
     "ename": "KeyboardInterrupt",
     "evalue": "",
     "output_type": "error",
     "traceback": [
      "\u001b[31m---------------------------------------------------------------------------\u001b[39m",
      "\u001b[31mKeyboardInterrupt\u001b[39m                         Traceback (most recent call last)",
      "\u001b[36mCell\u001b[39m\u001b[36m \u001b[39m\u001b[32mIn[8]\u001b[39m\u001b[32m, line 2\u001b[39m\n\u001b[32m      1\u001b[39m \u001b[38;5;66;03m# pairplot 확인\u001b[39;00m\n\u001b[32m----> \u001b[39m\u001b[32m2\u001b[39m \u001b[43msns\u001b[49m\u001b[43m.\u001b[49m\u001b[43mpairplot\u001b[49m\u001b[43m(\u001b[49m\u001b[43mdf_all\u001b[49m\u001b[43m.\u001b[49m\u001b[43mdrop\u001b[49m\u001b[43m(\u001b[49m\u001b[43mcolumns\u001b[49m\u001b[43m=\u001b[49m\u001b[43m[\u001b[49m\u001b[33;43m'\u001b[39;49m\u001b[33;43m매출액순이익률\u001b[39;49m\u001b[33;43m'\u001b[39;49m\u001b[43m]\u001b[49m\u001b[43m)\u001b[49m\u001b[43m,\u001b[49m\u001b[43m \u001b[49m\u001b[43mkind\u001b[49m\u001b[43m=\u001b[49m\u001b[33;43m'\u001b[39;49m\u001b[33;43mreg\u001b[39;49m\u001b[33;43m'\u001b[39;49m\u001b[43m)\u001b[49m\n",
      "\u001b[36mFile \u001b[39m\u001b[32mc:\\Users\\SAMSUNG\\Downloads\\RiskRadar\\.venv\\Lib\\site-packages\\seaborn\\axisgrid.py:2149\u001b[39m, in \u001b[36mpairplot\u001b[39m\u001b[34m(data, hue, hue_order, palette, vars, x_vars, y_vars, kind, diag_kind, markers, height, aspect, corner, dropna, plot_kws, diag_kws, grid_kws, size)\u001b[39m\n\u001b[32m   2147\u001b[39m diag_kws.setdefault(\u001b[33m\"\u001b[39m\u001b[33mlegend\u001b[39m\u001b[33m\"\u001b[39m, \u001b[38;5;28;01mFalse\u001b[39;00m)\n\u001b[32m   2148\u001b[39m \u001b[38;5;28;01mif\u001b[39;00m diag_kind == \u001b[33m\"\u001b[39m\u001b[33mhist\u001b[39m\u001b[33m\"\u001b[39m:\n\u001b[32m-> \u001b[39m\u001b[32m2149\u001b[39m     \u001b[43mgrid\u001b[49m\u001b[43m.\u001b[49m\u001b[43mmap_diag\u001b[49m\u001b[43m(\u001b[49m\u001b[43mhistplot\u001b[49m\u001b[43m,\u001b[49m\u001b[43m \u001b[49m\u001b[43m*\u001b[49m\u001b[43m*\u001b[49m\u001b[43mdiag_kws\u001b[49m\u001b[43m)\u001b[49m\n\u001b[32m   2150\u001b[39m \u001b[38;5;28;01melif\u001b[39;00m diag_kind == \u001b[33m\"\u001b[39m\u001b[33mkde\u001b[39m\u001b[33m\"\u001b[39m:\n\u001b[32m   2151\u001b[39m     diag_kws.setdefault(\u001b[33m\"\u001b[39m\u001b[33mfill\u001b[39m\u001b[33m\"\u001b[39m, \u001b[38;5;28;01mTrue\u001b[39;00m)\n",
      "\u001b[36mFile \u001b[39m\u001b[32mc:\\Users\\SAMSUNG\\Downloads\\RiskRadar\\.venv\\Lib\\site-packages\\seaborn\\axisgrid.py:1513\u001b[39m, in \u001b[36mPairGrid.map_diag\u001b[39m\u001b[34m(self, func, **kwargs)\u001b[39m\n\u001b[32m   1511\u001b[39m     plot_kwargs.setdefault(\u001b[33m\"\u001b[39m\u001b[33mhue_order\u001b[39m\u001b[33m\"\u001b[39m, \u001b[38;5;28mself\u001b[39m._hue_order)\n\u001b[32m   1512\u001b[39m     plot_kwargs.setdefault(\u001b[33m\"\u001b[39m\u001b[33mpalette\u001b[39m\u001b[33m\"\u001b[39m, \u001b[38;5;28mself\u001b[39m._orig_palette)\n\u001b[32m-> \u001b[39m\u001b[32m1513\u001b[39m     \u001b[43mfunc\u001b[49m\u001b[43m(\u001b[49m\u001b[43mx\u001b[49m\u001b[43m=\u001b[49m\u001b[43mvector\u001b[49m\u001b[43m,\u001b[49m\u001b[43m \u001b[49m\u001b[43m*\u001b[49m\u001b[43m*\u001b[49m\u001b[43mplot_kwargs\u001b[49m\u001b[43m)\u001b[49m\n\u001b[32m   1514\u001b[39m     ax.legend_ = \u001b[38;5;28;01mNone\u001b[39;00m\n\u001b[32m   1516\u001b[39m \u001b[38;5;28mself\u001b[39m._add_axis_labels()\n",
      "\u001b[36mFile \u001b[39m\u001b[32mc:\\Users\\SAMSUNG\\Downloads\\RiskRadar\\.venv\\Lib\\site-packages\\seaborn\\distributions.py:1416\u001b[39m, in \u001b[36mhistplot\u001b[39m\u001b[34m(data, x, y, hue, weights, stat, bins, binwidth, binrange, discrete, cumulative, common_bins, common_norm, multiple, element, fill, shrink, kde, kde_kws, line_kws, thresh, pthresh, pmax, cbar, cbar_ax, cbar_kws, palette, hue_order, hue_norm, color, log_scale, legend, ax, **kwargs)\u001b[39m\n\u001b[32m   1405\u001b[39m estimate_kws = \u001b[38;5;28mdict\u001b[39m(\n\u001b[32m   1406\u001b[39m     stat=stat,\n\u001b[32m   1407\u001b[39m     bins=bins,\n\u001b[32m   (...)\u001b[39m\u001b[32m   1411\u001b[39m     cumulative=cumulative,\n\u001b[32m   1412\u001b[39m )\n\u001b[32m   1414\u001b[39m \u001b[38;5;28;01mif\u001b[39;00m p.univariate:\n\u001b[32m-> \u001b[39m\u001b[32m1416\u001b[39m     \u001b[43mp\u001b[49m\u001b[43m.\u001b[49m\u001b[43mplot_univariate_histogram\u001b[49m\u001b[43m(\u001b[49m\n\u001b[32m   1417\u001b[39m \u001b[43m        \u001b[49m\u001b[43mmultiple\u001b[49m\u001b[43m=\u001b[49m\u001b[43mmultiple\u001b[49m\u001b[43m,\u001b[49m\n\u001b[32m   1418\u001b[39m \u001b[43m        \u001b[49m\u001b[43melement\u001b[49m\u001b[43m=\u001b[49m\u001b[43melement\u001b[49m\u001b[43m,\u001b[49m\n\u001b[32m   1419\u001b[39m \u001b[43m        \u001b[49m\u001b[43mfill\u001b[49m\u001b[43m=\u001b[49m\u001b[43mfill\u001b[49m\u001b[43m,\u001b[49m\n\u001b[32m   1420\u001b[39m \u001b[43m        \u001b[49m\u001b[43mshrink\u001b[49m\u001b[43m=\u001b[49m\u001b[43mshrink\u001b[49m\u001b[43m,\u001b[49m\n\u001b[32m   1421\u001b[39m \u001b[43m        \u001b[49m\u001b[43mcommon_norm\u001b[49m\u001b[43m=\u001b[49m\u001b[43mcommon_norm\u001b[49m\u001b[43m,\u001b[49m\n\u001b[32m   1422\u001b[39m \u001b[43m        \u001b[49m\u001b[43mcommon_bins\u001b[49m\u001b[43m=\u001b[49m\u001b[43mcommon_bins\u001b[49m\u001b[43m,\u001b[49m\n\u001b[32m   1423\u001b[39m \u001b[43m        \u001b[49m\u001b[43mkde\u001b[49m\u001b[43m=\u001b[49m\u001b[43mkde\u001b[49m\u001b[43m,\u001b[49m\n\u001b[32m   1424\u001b[39m \u001b[43m        \u001b[49m\u001b[43mkde_kws\u001b[49m\u001b[43m=\u001b[49m\u001b[43mkde_kws\u001b[49m\u001b[43m,\u001b[49m\n\u001b[32m   1425\u001b[39m \u001b[43m        \u001b[49m\u001b[43mcolor\u001b[49m\u001b[43m=\u001b[49m\u001b[43mcolor\u001b[49m\u001b[43m,\u001b[49m\n\u001b[32m   1426\u001b[39m \u001b[43m        \u001b[49m\u001b[43mlegend\u001b[49m\u001b[43m=\u001b[49m\u001b[43mlegend\u001b[49m\u001b[43m,\u001b[49m\n\u001b[32m   1427\u001b[39m \u001b[43m        \u001b[49m\u001b[43mestimate_kws\u001b[49m\u001b[43m=\u001b[49m\u001b[43mestimate_kws\u001b[49m\u001b[43m,\u001b[49m\n\u001b[32m   1428\u001b[39m \u001b[43m        \u001b[49m\u001b[43mline_kws\u001b[49m\u001b[43m=\u001b[49m\u001b[43mline_kws\u001b[49m\u001b[43m,\u001b[49m\n\u001b[32m   1429\u001b[39m \u001b[43m        \u001b[49m\u001b[43m*\u001b[49m\u001b[43m*\u001b[49m\u001b[43mkwargs\u001b[49m\u001b[43m,\u001b[49m\n\u001b[32m   1430\u001b[39m \u001b[43m    \u001b[49m\u001b[43m)\u001b[49m\n\u001b[32m   1432\u001b[39m \u001b[38;5;28;01melse\u001b[39;00m:\n\u001b[32m   1434\u001b[39m     p.plot_bivariate_histogram(\n\u001b[32m   1435\u001b[39m         common_bins=common_bins,\n\u001b[32m   1436\u001b[39m         common_norm=common_norm,\n\u001b[32m   (...)\u001b[39m\u001b[32m   1446\u001b[39m         **kwargs,\n\u001b[32m   1447\u001b[39m     )\n",
      "\u001b[36mFile \u001b[39m\u001b[32mc:\\Users\\SAMSUNG\\Downloads\\RiskRadar\\.venv\\Lib\\site-packages\\seaborn\\distributions.py:571\u001b[39m, in \u001b[36m_DistributionPlotter.plot_univariate_histogram\u001b[39m\u001b[34m(self, multiple, element, fill, common_norm, common_bins, shrink, kde, kde_kws, color, legend, line_kws, estimate_kws, **plot_kws)\u001b[39m\n\u001b[32m    566\u001b[39m \u001b[38;5;28;01mif\u001b[39;00m element == \u001b[33m\"\u001b[39m\u001b[33mbars\u001b[39m\u001b[33m\"\u001b[39m:\n\u001b[32m    567\u001b[39m \n\u001b[32m    568\u001b[39m     \u001b[38;5;66;03m# Use matplotlib bar plotting\u001b[39;00m\n\u001b[32m    570\u001b[39m     plot_func = ax.bar \u001b[38;5;28;01mif\u001b[39;00m \u001b[38;5;28mself\u001b[39m.data_variable == \u001b[33m\"\u001b[39m\u001b[33mx\u001b[39m\u001b[33m\"\u001b[39m \u001b[38;5;28;01melse\u001b[39;00m ax.barh\n\u001b[32m--> \u001b[39m\u001b[32m571\u001b[39m     artists = \u001b[43mplot_func\u001b[49m\u001b[43m(\u001b[49m\n\u001b[32m    572\u001b[39m \u001b[43m        \u001b[49m\u001b[43mhist\u001b[49m\u001b[43m[\u001b[49m\u001b[33;43m\"\u001b[39;49m\u001b[33;43medges\u001b[39;49m\u001b[33;43m\"\u001b[39;49m\u001b[43m]\u001b[49m\u001b[43m,\u001b[49m\n\u001b[32m    573\u001b[39m \u001b[43m        \u001b[49m\u001b[43mhist\u001b[49m\u001b[43m[\u001b[49m\u001b[33;43m\"\u001b[39;49m\u001b[33;43mheights\u001b[39;49m\u001b[33;43m\"\u001b[39;49m\u001b[43m]\u001b[49m\u001b[43m \u001b[49m\u001b[43m-\u001b[49m\u001b[43m \u001b[49m\u001b[43mbottom\u001b[49m\u001b[43m,\u001b[49m\n\u001b[32m    574\u001b[39m \u001b[43m        \u001b[49m\u001b[43mhist\u001b[49m\u001b[43m[\u001b[49m\u001b[33;43m\"\u001b[39;49m\u001b[33;43mwidths\u001b[39;49m\u001b[33;43m\"\u001b[39;49m\u001b[43m]\u001b[49m\u001b[43m,\u001b[49m\n\u001b[32m    575\u001b[39m \u001b[43m        \u001b[49m\u001b[43mbottom\u001b[49m\u001b[43m,\u001b[49m\n\u001b[32m    576\u001b[39m \u001b[43m        \u001b[49m\u001b[43malign\u001b[49m\u001b[43m=\u001b[49m\u001b[33;43m\"\u001b[39;49m\u001b[33;43medge\u001b[39;49m\u001b[33;43m\"\u001b[39;49m\u001b[43m,\u001b[49m\n\u001b[32m    577\u001b[39m \u001b[43m        \u001b[49m\u001b[43m*\u001b[49m\u001b[43m*\u001b[49m\u001b[43martist_kws\u001b[49m\u001b[43m,\u001b[49m\n\u001b[32m    578\u001b[39m \u001b[43m    \u001b[49m\u001b[43m)\u001b[49m\n\u001b[32m    580\u001b[39m     \u001b[38;5;28;01mfor\u001b[39;00m bar \u001b[38;5;129;01min\u001b[39;00m artists:\n\u001b[32m    581\u001b[39m         \u001b[38;5;28;01mif\u001b[39;00m \u001b[38;5;28mself\u001b[39m.data_variable == \u001b[33m\"\u001b[39m\u001b[33mx\u001b[39m\u001b[33m\"\u001b[39m:\n",
      "\u001b[36mFile \u001b[39m\u001b[32mc:\\Users\\SAMSUNG\\Downloads\\RiskRadar\\.venv\\Lib\\site-packages\\matplotlib\\__init__.py:1521\u001b[39m, in \u001b[36m_preprocess_data.<locals>.inner\u001b[39m\u001b[34m(ax, data, *args, **kwargs)\u001b[39m\n\u001b[32m   1518\u001b[39m \u001b[38;5;129m@functools\u001b[39m.wraps(func)\n\u001b[32m   1519\u001b[39m \u001b[38;5;28;01mdef\u001b[39;00m\u001b[38;5;250m \u001b[39m\u001b[34minner\u001b[39m(ax, *args, data=\u001b[38;5;28;01mNone\u001b[39;00m, **kwargs):\n\u001b[32m   1520\u001b[39m     \u001b[38;5;28;01mif\u001b[39;00m data \u001b[38;5;129;01mis\u001b[39;00m \u001b[38;5;28;01mNone\u001b[39;00m:\n\u001b[32m-> \u001b[39m\u001b[32m1521\u001b[39m         \u001b[38;5;28;01mreturn\u001b[39;00m \u001b[43mfunc\u001b[49m\u001b[43m(\u001b[49m\n\u001b[32m   1522\u001b[39m \u001b[43m            \u001b[49m\u001b[43max\u001b[49m\u001b[43m,\u001b[49m\n\u001b[32m   1523\u001b[39m \u001b[43m            \u001b[49m\u001b[43m*\u001b[49m\u001b[38;5;28;43mmap\u001b[39;49m\u001b[43m(\u001b[49m\u001b[43mcbook\u001b[49m\u001b[43m.\u001b[49m\u001b[43msanitize_sequence\u001b[49m\u001b[43m,\u001b[49m\u001b[43m \u001b[49m\u001b[43margs\u001b[49m\u001b[43m)\u001b[49m\u001b[43m,\u001b[49m\n\u001b[32m   1524\u001b[39m \u001b[43m            \u001b[49m\u001b[43m*\u001b[49m\u001b[43m*\u001b[49m\u001b[43m{\u001b[49m\u001b[43mk\u001b[49m\u001b[43m:\u001b[49m\u001b[43m \u001b[49m\u001b[43mcbook\u001b[49m\u001b[43m.\u001b[49m\u001b[43msanitize_sequence\u001b[49m\u001b[43m(\u001b[49m\u001b[43mv\u001b[49m\u001b[43m)\u001b[49m\u001b[43m \u001b[49m\u001b[38;5;28;43;01mfor\u001b[39;49;00m\u001b[43m \u001b[49m\u001b[43mk\u001b[49m\u001b[43m,\u001b[49m\u001b[43m \u001b[49m\u001b[43mv\u001b[49m\u001b[43m \u001b[49m\u001b[38;5;129;43;01min\u001b[39;49;00m\u001b[43m \u001b[49m\u001b[43mkwargs\u001b[49m\u001b[43m.\u001b[49m\u001b[43mitems\u001b[49m\u001b[43m(\u001b[49m\u001b[43m)\u001b[49m\u001b[43m}\u001b[49m\u001b[43m)\u001b[49m\n\u001b[32m   1526\u001b[39m     bound = new_sig.bind(ax, *args, **kwargs)\n\u001b[32m   1527\u001b[39m     auto_label = (bound.arguments.get(label_namer)\n\u001b[32m   1528\u001b[39m                   \u001b[38;5;129;01mor\u001b[39;00m bound.kwargs.get(label_namer))\n",
      "\u001b[36mFile \u001b[39m\u001b[32mc:\\Users\\SAMSUNG\\Downloads\\RiskRadar\\.venv\\Lib\\site-packages\\matplotlib\\axes\\_axes.py:2660\u001b[39m, in \u001b[36mAxes.bar\u001b[39m\u001b[34m(self, x, height, width, bottom, align, **kwargs)\u001b[39m\n\u001b[32m   2658\u001b[39m     \u001b[38;5;28;01melse\u001b[39;00m:  \u001b[38;5;66;03m# horizontal\u001b[39;00m\n\u001b[32m   2659\u001b[39m         r.sticky_edges.x.append(l)\n\u001b[32m-> \u001b[39m\u001b[32m2660\u001b[39m     \u001b[38;5;28;43mself\u001b[39;49m\u001b[43m.\u001b[49m\u001b[43madd_patch\u001b[49m\u001b[43m(\u001b[49m\u001b[43mr\u001b[49m\u001b[43m)\u001b[49m\n\u001b[32m   2661\u001b[39m     patches.append(r)\n\u001b[32m   2663\u001b[39m \u001b[38;5;28;01mif\u001b[39;00m xerr \u001b[38;5;129;01mis\u001b[39;00m \u001b[38;5;129;01mnot\u001b[39;00m \u001b[38;5;28;01mNone\u001b[39;00m \u001b[38;5;129;01mor\u001b[39;00m yerr \u001b[38;5;129;01mis\u001b[39;00m \u001b[38;5;129;01mnot\u001b[39;00m \u001b[38;5;28;01mNone\u001b[39;00m:\n",
      "\u001b[36mFile \u001b[39m\u001b[32mc:\\Users\\SAMSUNG\\Downloads\\RiskRadar\\.venv\\Lib\\site-packages\\matplotlib\\axes\\_base.py:2482\u001b[39m, in \u001b[36m_AxesBase.add_patch\u001b[39m\u001b[34m(self, p)\u001b[39m\n\u001b[32m   2480\u001b[39m \u001b[38;5;28;01mif\u001b[39;00m p.get_clip_path() \u001b[38;5;129;01mis\u001b[39;00m \u001b[38;5;28;01mNone\u001b[39;00m:\n\u001b[32m   2481\u001b[39m     p.set_clip_path(\u001b[38;5;28mself\u001b[39m.patch)\n\u001b[32m-> \u001b[39m\u001b[32m2482\u001b[39m \u001b[38;5;28;43mself\u001b[39;49m\u001b[43m.\u001b[49m\u001b[43m_update_patch_limits\u001b[49m\u001b[43m(\u001b[49m\u001b[43mp\u001b[49m\u001b[43m)\u001b[49m\n\u001b[32m   2483\u001b[39m \u001b[38;5;28mself\u001b[39m._children.append(p)\n\u001b[32m   2484\u001b[39m p._remove_method = \u001b[38;5;28mself\u001b[39m._children.remove\n",
      "\u001b[36mFile \u001b[39m\u001b[32mc:\\Users\\SAMSUNG\\Downloads\\RiskRadar\\.venv\\Lib\\site-packages\\matplotlib\\axes\\_base.py:2524\u001b[39m, in \u001b[36m_AxesBase._update_patch_limits\u001b[39m\u001b[34m(self, patch)\u001b[39m\n\u001b[32m   2522\u001b[39m         updatey = \u001b[38;5;28;01mFalse\u001b[39;00m\n\u001b[32m   2523\u001b[39m trf_to_data = patch_trf - \u001b[38;5;28mself\u001b[39m.transData\n\u001b[32m-> \u001b[39m\u001b[32m2524\u001b[39m xys = \u001b[43mtrf_to_data\u001b[49m\u001b[43m.\u001b[49m\u001b[43mtransform\u001b[49m\u001b[43m(\u001b[49m\u001b[43mvertices\u001b[49m\u001b[43m)\u001b[49m\n\u001b[32m   2525\u001b[39m \u001b[38;5;28mself\u001b[39m.update_datalim(xys, updatex=updatex, updatey=updatey)\n",
      "\u001b[36mFile \u001b[39m\u001b[32mc:\\Users\\SAMSUNG\\Downloads\\RiskRadar\\.venv\\Lib\\site-packages\\matplotlib\\transforms.py:1495\u001b[39m, in \u001b[36mTransform.transform\u001b[39m\u001b[34m(self, values)\u001b[39m\n\u001b[32m   1492\u001b[39m values = values.reshape((-\u001b[32m1\u001b[39m, \u001b[38;5;28mself\u001b[39m.input_dims))\n\u001b[32m   1494\u001b[39m \u001b[38;5;66;03m# Transform the values\u001b[39;00m\n\u001b[32m-> \u001b[39m\u001b[32m1495\u001b[39m res = \u001b[38;5;28;43mself\u001b[39;49m\u001b[43m.\u001b[49m\u001b[43mtransform_affine\u001b[49m\u001b[43m(\u001b[49m\u001b[38;5;28;43mself\u001b[39;49m\u001b[43m.\u001b[49m\u001b[43mtransform_non_affine\u001b[49m\u001b[43m(\u001b[49m\u001b[43mvalues\u001b[49m\u001b[43m)\u001b[49m\u001b[43m)\u001b[49m\n\u001b[32m   1497\u001b[39m \u001b[38;5;66;03m# Convert the result back to the shape of the input values.\u001b[39;00m\n\u001b[32m   1498\u001b[39m \u001b[38;5;28;01mif\u001b[39;00m ndim == \u001b[32m0\u001b[39m:\n",
      "\u001b[36mFile \u001b[39m\u001b[32mc:\\Users\\SAMSUNG\\Downloads\\RiskRadar\\.venv\\Lib\\site-packages\\matplotlib\\transforms.py:2410\u001b[39m, in \u001b[36mCompositeGenericTransform.transform_affine\u001b[39m\u001b[34m(self, values)\u001b[39m\n\u001b[32m   2408\u001b[39m \u001b[38;5;28;01mdef\u001b[39;00m\u001b[38;5;250m \u001b[39m\u001b[34mtransform_affine\u001b[39m(\u001b[38;5;28mself\u001b[39m, values):\n\u001b[32m   2409\u001b[39m     \u001b[38;5;66;03m# docstring inherited\u001b[39;00m\n\u001b[32m-> \u001b[39m\u001b[32m2410\u001b[39m     \u001b[38;5;28;01mreturn\u001b[39;00m \u001b[38;5;28;43mself\u001b[39;49m\u001b[43m.\u001b[49m\u001b[43mget_affine\u001b[49m\u001b[43m(\u001b[49m\u001b[43m)\u001b[49m.transform(values)\n",
      "\u001b[36mFile \u001b[39m\u001b[32mc:\\Users\\SAMSUNG\\Downloads\\RiskRadar\\.venv\\Lib\\site-packages\\matplotlib\\transforms.py:2436\u001b[39m, in \u001b[36mCompositeGenericTransform.get_affine\u001b[39m\u001b[34m(self)\u001b[39m\n\u001b[32m   2434\u001b[39m     \u001b[38;5;28;01mreturn\u001b[39;00m \u001b[38;5;28mself\u001b[39m._b.get_affine()\n\u001b[32m   2435\u001b[39m \u001b[38;5;28;01melse\u001b[39;00m:\n\u001b[32m-> \u001b[39m\u001b[32m2436\u001b[39m     \u001b[38;5;28;01mreturn\u001b[39;00m Affine2D(\u001b[43mnp\u001b[49m\u001b[43m.\u001b[49m\u001b[43mdot\u001b[49m\u001b[43m(\u001b[49m\u001b[38;5;28;43mself\u001b[39;49m\u001b[43m.\u001b[49m\u001b[43m_b\u001b[49m\u001b[43m.\u001b[49m\u001b[43mget_affine\u001b[49m\u001b[43m(\u001b[49m\u001b[43m)\u001b[49m\u001b[43m.\u001b[49m\u001b[43mget_matrix\u001b[49m\u001b[43m(\u001b[49m\u001b[43m)\u001b[49m\u001b[43m,\u001b[49m\n\u001b[32m   2437\u001b[39m \u001b[43m                           \u001b[49m\u001b[38;5;28;43mself\u001b[39;49m\u001b[43m.\u001b[49m\u001b[43m_a\u001b[49m\u001b[43m.\u001b[49m\u001b[43mget_affine\u001b[49m\u001b[43m(\u001b[49m\u001b[43m)\u001b[49m\u001b[43m.\u001b[49m\u001b[43mget_matrix\u001b[49m\u001b[43m(\u001b[49m\u001b[43m)\u001b[49m\u001b[43m)\u001b[49m)\n",
      "\u001b[31mKeyboardInterrupt\u001b[39m: "
     ]
    }
   ],
   "source": [
    "# pairplot 확인\n",
    "sns.pairplot(df_all.drop(columns=['매출액순이익률']), kind='reg')"
   ]
  },
  {
   "cell_type": "code",
   "execution_count": 9,
   "metadata": {},
   "outputs": [
    {
     "data": {
      "text/html": [
       "<div>\n",
       "<style scoped>\n",
       "    .dataframe tbody tr th:only-of-type {\n",
       "        vertical-align: middle;\n",
       "    }\n",
       "\n",
       "    .dataframe tbody tr th {\n",
       "        vertical-align: top;\n",
       "    }\n",
       "\n",
       "    .dataframe thead th {\n",
       "        text-align: right;\n",
       "    }\n",
       "</style>\n",
       "<table border=\"1\" class=\"dataframe\">\n",
       "  <thead>\n",
       "    <tr style=\"text-align: right;\">\n",
       "      <th></th>\n",
       "      <th>부채비율</th>\n",
       "      <th>유동비율</th>\n",
       "      <th>자기자본비율</th>\n",
       "      <th>고정자산비율</th>\n",
       "      <th>고정비율</th>\n",
       "      <th>순운전자본비율</th>\n",
       "      <th>ln자산총계</th>\n",
       "      <th>총자산이익잉여금비율</th>\n",
       "      <th>ln매출액</th>\n",
       "      <th>매출액순이익률</th>\n",
       "    </tr>\n",
       "  </thead>\n",
       "  <tbody>\n",
       "    <tr>\n",
       "      <th>부채비율</th>\n",
       "      <td>1.000000</td>\n",
       "      <td>-0.001930</td>\n",
       "      <td>-0.038525</td>\n",
       "      <td>-0.000199</td>\n",
       "      <td>0.967796</td>\n",
       "      <td>-0.030482</td>\n",
       "      <td>0.005844</td>\n",
       "      <td>-0.005007</td>\n",
       "      <td>0.005045</td>\n",
       "      <td>-0.000565</td>\n",
       "    </tr>\n",
       "    <tr>\n",
       "      <th>유동비율</th>\n",
       "      <td>-0.001930</td>\n",
       "      <td>1.000000</td>\n",
       "      <td>0.012428</td>\n",
       "      <td>-0.040257</td>\n",
       "      <td>-0.003787</td>\n",
       "      <td>0.032391</td>\n",
       "      <td>-0.046823</td>\n",
       "      <td>-0.000095</td>\n",
       "      <td>-0.019141</td>\n",
       "      <td>-0.002197</td>\n",
       "    </tr>\n",
       "    <tr>\n",
       "      <th>자기자본비율</th>\n",
       "      <td>-0.038525</td>\n",
       "      <td>0.012428</td>\n",
       "      <td>1.000000</td>\n",
       "      <td>-0.037934</td>\n",
       "      <td>-0.043241</td>\n",
       "      <td>0.919186</td>\n",
       "      <td>0.016806</td>\n",
       "      <td>0.826414</td>\n",
       "      <td>-0.120509</td>\n",
       "      <td>0.016204</td>\n",
       "    </tr>\n",
       "    <tr>\n",
       "      <th>고정자산비율</th>\n",
       "      <td>-0.000199</td>\n",
       "      <td>-0.040257</td>\n",
       "      <td>-0.037934</td>\n",
       "      <td>1.000000</td>\n",
       "      <td>0.074180</td>\n",
       "      <td>-0.367930</td>\n",
       "      <td>0.301920</td>\n",
       "      <td>0.012805</td>\n",
       "      <td>0.058088</td>\n",
       "      <td>0.031190</td>\n",
       "    </tr>\n",
       "    <tr>\n",
       "      <th>고정비율</th>\n",
       "      <td>0.967796</td>\n",
       "      <td>-0.003787</td>\n",
       "      <td>-0.043241</td>\n",
       "      <td>0.074180</td>\n",
       "      <td>1.000000</td>\n",
       "      <td>-0.057070</td>\n",
       "      <td>0.032324</td>\n",
       "      <td>-0.001681</td>\n",
       "      <td>0.016858</td>\n",
       "      <td>0.001117</td>\n",
       "    </tr>\n",
       "    <tr>\n",
       "      <th>순운전자본비율</th>\n",
       "      <td>-0.030482</td>\n",
       "      <td>0.032391</td>\n",
       "      <td>0.919186</td>\n",
       "      <td>-0.367930</td>\n",
       "      <td>-0.057070</td>\n",
       "      <td>1.000000</td>\n",
       "      <td>-0.064498</td>\n",
       "      <td>0.766828</td>\n",
       "      <td>-0.092375</td>\n",
       "      <td>-0.014928</td>\n",
       "    </tr>\n",
       "    <tr>\n",
       "      <th>ln자산총계</th>\n",
       "      <td>0.005844</td>\n",
       "      <td>-0.046823</td>\n",
       "      <td>0.016806</td>\n",
       "      <td>0.301920</td>\n",
       "      <td>0.032324</td>\n",
       "      <td>-0.064498</td>\n",
       "      <td>1.000000</td>\n",
       "      <td>0.146871</td>\n",
       "      <td>0.825120</td>\n",
       "      <td>0.027585</td>\n",
       "    </tr>\n",
       "    <tr>\n",
       "      <th>총자산이익잉여금비율</th>\n",
       "      <td>-0.005007</td>\n",
       "      <td>-0.000095</td>\n",
       "      <td>0.826414</td>\n",
       "      <td>0.012805</td>\n",
       "      <td>-0.001681</td>\n",
       "      <td>0.766828</td>\n",
       "      <td>0.146871</td>\n",
       "      <td>1.000000</td>\n",
       "      <td>0.241527</td>\n",
       "      <td>0.037084</td>\n",
       "    </tr>\n",
       "    <tr>\n",
       "      <th>ln매출액</th>\n",
       "      <td>0.005045</td>\n",
       "      <td>-0.019141</td>\n",
       "      <td>-0.120509</td>\n",
       "      <td>0.058088</td>\n",
       "      <td>0.016858</td>\n",
       "      <td>-0.092375</td>\n",
       "      <td>0.825120</td>\n",
       "      <td>0.241527</td>\n",
       "      <td>1.000000</td>\n",
       "      <td>0.114016</td>\n",
       "    </tr>\n",
       "    <tr>\n",
       "      <th>매출액순이익률</th>\n",
       "      <td>-0.000565</td>\n",
       "      <td>-0.002197</td>\n",
       "      <td>0.016204</td>\n",
       "      <td>0.031190</td>\n",
       "      <td>0.001117</td>\n",
       "      <td>-0.014928</td>\n",
       "      <td>0.027585</td>\n",
       "      <td>0.037084</td>\n",
       "      <td>0.114016</td>\n",
       "      <td>1.000000</td>\n",
       "    </tr>\n",
       "  </tbody>\n",
       "</table>\n",
       "</div>"
      ],
      "text/plain": [
       "                부채비율      유동비율    자기자본비율    고정자산비율      고정비율   순운전자본비율  \\\n",
       "부채비율        1.000000 -0.001930 -0.038525 -0.000199  0.967796 -0.030482   \n",
       "유동비율       -0.001930  1.000000  0.012428 -0.040257 -0.003787  0.032391   \n",
       "자기자본비율     -0.038525  0.012428  1.000000 -0.037934 -0.043241  0.919186   \n",
       "고정자산비율     -0.000199 -0.040257 -0.037934  1.000000  0.074180 -0.367930   \n",
       "고정비율        0.967796 -0.003787 -0.043241  0.074180  1.000000 -0.057070   \n",
       "순운전자본비율    -0.030482  0.032391  0.919186 -0.367930 -0.057070  1.000000   \n",
       "ln자산총계      0.005844 -0.046823  0.016806  0.301920  0.032324 -0.064498   \n",
       "총자산이익잉여금비율 -0.005007 -0.000095  0.826414  0.012805 -0.001681  0.766828   \n",
       "ln매출액       0.005045 -0.019141 -0.120509  0.058088  0.016858 -0.092375   \n",
       "매출액순이익률    -0.000565 -0.002197  0.016204  0.031190  0.001117 -0.014928   \n",
       "\n",
       "              ln자산총계  총자산이익잉여금비율     ln매출액   매출액순이익률  \n",
       "부채비율        0.005844   -0.005007  0.005045 -0.000565  \n",
       "유동비율       -0.046823   -0.000095 -0.019141 -0.002197  \n",
       "자기자본비율      0.016806    0.826414 -0.120509  0.016204  \n",
       "고정자산비율      0.301920    0.012805  0.058088  0.031190  \n",
       "고정비율        0.032324   -0.001681  0.016858  0.001117  \n",
       "순운전자본비율    -0.064498    0.766828 -0.092375 -0.014928  \n",
       "ln자산총계      1.000000    0.146871  0.825120  0.027585  \n",
       "총자산이익잉여금비율  0.146871    1.000000  0.241527  0.037084  \n",
       "ln매출액       0.825120    0.241527  1.000000  0.114016  \n",
       "매출액순이익률     0.027585    0.037084  0.114016  1.000000  "
      ]
     },
     "execution_count": 9,
     "metadata": {},
     "output_type": "execute_result"
    }
   ],
   "source": [
    "# 상관계수 확인\n",
    "import scipy.stats\n",
    "\n",
    "# 숫자형 컬럼만 선택하여 상관계수 계산\n",
    "numeric_df = df_all.drop(columns=['사업연도']).select_dtypes(include=[np.number])\n",
    "numeric_df.corr()"
   ]
  },
  {
   "cell_type": "code",
   "execution_count": 10,
   "metadata": {},
   "outputs": [
    {
     "data": {
      "image/png": "[encoded data removed]",
      "text/plain": [
       "<Figure size 1000x800 with 2 Axes>"
      ]
     },
     "metadata": {},
     "output_type": "display_data"
    }
   ],
   "source": [
    "# hitmap 시각화\n",
    "correlation_matrix = numeric_df.corr()\n",
    "plt.figure(figsize=(10, 8))\n",
    "mask = np.triu(np.ones_like(correlation_matrix, dtype=bool))\n",
    "sns.heatmap(correlation_matrix, mask=mask,annot=True, cmap='coolwarm', fmt='.2f', linewidths=0.5,vmin=-1, vmax=1)\n",
    "plt.title('상관계수 히트맵')\n",
    "plt.show()"
   ]
  },
  {
   "cell_type": "code",
   "execution_count": null,
   "metadata": {},
   "outputs": [
    {
     "ename": "ModuleNotFoundError",
     "evalue": "No module named 'sklearn'",
     "output_type": "error",
     "traceback": [
      "\u001b[31m---------------------------------------------------------------------------\u001b[39m",
      "\u001b[31mModuleNotFoundError\u001b[39m                       Traceback (most recent call last)",
      "\u001b[36mCell\u001b[39m\u001b[36m \u001b[39m\u001b[32mIn[11]\u001b[39m\u001b[32m, line 1\u001b[39m\n\u001b[32m----> \u001b[39m\u001b[32m1\u001b[39m \u001b[38;5;28;01mfrom\u001b[39;00m\u001b[38;5;250m \u001b[39m\u001b[34;01msklearn\u001b[39;00m\u001b[34;01m.\u001b[39;00m\u001b[34;01mlinear_model\u001b[39;00m\u001b[38;5;250m \u001b[39m\u001b[38;5;28;01mimport\u001b[39;00m LinearRegression \u001b[38;5;66;03m#기본 회귀분석 가져오기\u001b[39;00m\n\u001b[32m      2\u001b[39m \u001b[38;5;28;01mfrom\u001b[39;00m\u001b[38;5;250m \u001b[39m\u001b[34;01msklearn\u001b[39;00m\u001b[34;01m.\u001b[39;00m\u001b[34;01mlinear_model\u001b[39;00m\u001b[38;5;250m \u001b[39m\u001b[38;5;28;01mimport\u001b[39;00m Ridge, Lasso, ElasticNet \u001b[38;5;66;03m#3가지 벌점 회귀\u001b[39;00m\n",
      "\u001b[31mModuleNotFoundError\u001b[39m: No module named 'sklearn'"
     ]
    }
   ],
   "source": [
    "from sklearn.linear_model import LinearRegression #기본 회귀분석 가져오기\n",
    "from sklearn.linear_model import Ridge, Lasso, ElasticNet #3가지 벌점 회귀"
   ]
  },
  {
   "cell_type": "code",
   "execution_count": 18,
   "metadata": {},
   "outputs": [],
   "source": [
    "target = df_all['월수익률_대한항공']\n",
    "feature = df_all[['월수익률_유가', '월수익률_코스피', '월수익률_환율', '월수익률_금리']]"
   ]
  },
  {
   "cell_type": "code",
   "execution_count": 19,
   "metadata": {},
   "outputs": [
    {
     "name": "stdout",
     "output_type": "stream",
     "text": [
      "regression coef:\n",
      "  [ 0.05219061  1.07285307 -0.22832627  0.19613703]\n",
      "\n",
      "regression intercept:\n",
      " 0.0010291766274552025\n"
     ]
    }
   ],
   "source": [
    "# 다중회귀분석(OLS)\n",
    "lr = LinearRegression() #다중회귀분석 모델을 하나 생성\n",
    "lr.fit(feature, target) #X(506x13 사이즈)와 y(506x1 사이즈)로 회귀분석 실시\n",
    "print('regression coef:\\n ', lr.coef_) #13개 독립변수의 각 회귀계수 출력\n",
    "print('\\nregression intercept:\\n', lr.intercept_) #절편값 출력\n"
   ]
  },
  {
   "cell_type": "code",
   "execution_count": 20,
   "metadata": {},
   "outputs": [
    {
     "name": "stdout",
     "output_type": "stream",
     "text": [
      "Elastic_Net coef:\n",
      "  [ 0.03745176  0.82690999 -0.          0.10387826]\n",
      "\n",
      "Elastic_Net intercept:\n",
      " 0.0017011006875268012\n"
     ]
    }
   ],
   "source": [
    "elastic_net = ElasticNet(alpha=0.001, l1_ratio=0.5) #Elastic Net 모델을 하나 생성(옵션은 디폴트 값으로)\n",
    "elastic_net.fit(feature, target) #X와 y로 분석 실시\n",
    "print('Elastic_Net coef:\\n ', elastic_net.coef_)\n",
    "print('\\nElastic_Net intercept:\\n', elastic_net.intercept_) #절편값 출력"
   ]
  },
  {
   "cell_type": "code",
   "execution_count": 21,
   "metadata": {},
   "outputs": [
    {
     "name": "stdout",
     "output_type": "stream",
     "text": [
      "Elastic_Net coef:\n",
      "  [ 0.          0.80548033 -0.          0.05035133]\n",
      "\n",
      "Elastic_Net intercept:\n",
      " 0.0025085203994612473\n"
     ]
    }
   ],
   "source": [
    "Lasso_net = Lasso(alpha=0.001) #Elastic Net 모델을 하나 생성(옵션은 디폴트 값으로)\n",
    "Lasso_net.fit(feature, target) #X와 y로 분석 실시\n",
    "print('Elastic_Net coef:\\n ', Lasso_net.coef_)\n",
    "print('\\nElastic_Net intercept:\\n', Lasso_net.intercept_) #절편값 출력"
   ]
  },
  {
   "cell_type": "code",
   "execution_count": 22,
   "metadata": {},
   "outputs": [
    {
     "name": "stdout",
     "output_type": "stream",
     "text": [
      "Elastic_Net coef:\n",
      "  [ 0.00129901  0.00234351 -0.00053061  0.00065068]\n",
      "\n",
      "Elastic_Net intercept:\n",
      " 0.0044277179281899766\n"
     ]
    }
   ],
   "source": [
    "Ridge_net = Ridge(alpha=100) #Elastic Net 모델을 하나 생성(옵션은 디폴트 값으로)\n",
    "Ridge_net.fit(feature, target) #X와 y로 분석 실시\n",
    "print('Elastic_Net coef:\\n ', Ridge_net.coef_)\n",
    "print('\\nElastic_Net intercept:\\n', Ridge_net.intercept_) #절편값 출력"
   ]
  }
 ],
 "metadata": {
  "kernelspec": {
   "display_name": ".venv",
   "language": "python",
   "name": "python3"
  },
  "language_info": {
   "codemirror_mode": {
    "name": "ipython",
    "version": 3
   },
   "file_extension": ".py",
   "mimetype": "text/x-python",
   "name": "python",
   "nbconvert_exporter": "python",
   "pygments_lexer": "ipython3",
   "version": "3.11.5"
  },
  "orig_nbformat": 4
 },
 "nbformat": 4,
 "nbformat_minor": 2
}
