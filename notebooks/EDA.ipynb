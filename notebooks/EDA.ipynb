{
 "cells": [
  {
   "cell_type": "code",
   "execution_count": null,
   "metadata": {},
   "outputs": [],
   "source": [
    "import pandas as pd\n",
    "import numpy as np\n",
    "import seaborn as sns\n",
    "import matplotlib.pyplot as plt\n",
    "from scipy import stats\n",
    "from sklearn.preprocessing import StandardScaler\n",
    "from imblearn.over_sampling import SMOTE"
   ]
  },
  {
   "cell_type": "markdown",
   "metadata": {},
   "source": [
    "### 1. Histogram + Box + Violin Plot (변수 예시: 'ROE')"
   ]
  },
  {
   "cell_type": "code",
   "execution_count": null,
   "metadata": {},
   "outputs": [],
   "source": [
    "fig, axes = plt.subplots(1, 3, figsize=(18, 5))\n",
    "\n",
    "sns.histplot(df['ROE'], ax=axes[0], kde=True)\n",
    "axes[0].set_title('Histogram of ROE')\n",
    "\n",
    "sns.boxplot(x=df['ROE'], ax=axes[1])\n",
    "axes[1].set_title('Boxplot of ROE')\n",
    "\n",
    "sns.violinplot(x=df['target'], y=df['ROE'], ax=axes[2])\n",
    "axes[2].set_title('Violin Plot: ROE by Target')\n",
    "\n",
    "plt.tight_layout()\n",
    "plt.show()"
   ]
  },
  {
   "cell_type": "markdown",
   "metadata": {},
   "source": [
    "### 2. Q-Q Plot (정규성 검정)"
   ]
  },
  {
   "cell_type": "code",
   "execution_count": null,
   "metadata": {},
   "outputs": [],
   "source": [
    "import statsmodels.api as sm\n",
    "\n",
    "sm.qqplot(df['ROE'], line='s')\n",
    "plt.title(\"Q-Q Plot of ROE\")\n",
    "plt.show()\n"
   ]
  },
  {
   "cell_type": "markdown",
   "metadata": {},
   "source": [
    "### 3. 피어슨 상관계수 Heatmap"
   ]
  },
  {
   "cell_type": "code",
   "execution_count": null,
   "metadata": {},
   "outputs": [],
   "source": [
    "plt.figure(figsize=(12, 10))\n",
    "corr = df.corr()\n",
    "sns.heatmap(corr, annot=True, fmt=\".2f\", cmap='coolwarm')\n",
    "plt.title(\"피어슨 상관계수 Heatmap\")\n",
    "plt.show()\n"
   ]
  },
  {
   "cell_type": "markdown",
   "metadata": {},
   "source": [
    "### 4. t-test (정상 vs 부실 그룹 비교)"
   ]
  },
  {
   "cell_type": "code",
   "execution_count": null,
   "metadata": {},
   "outputs": [],
   "source": [
    "# 정상 vs 부실 그룹\n",
    "group_0 = df[df['target'] == 0]\n",
    "group_1 = df[df['target'] == 1]\n",
    "\n",
    "# 예시: 'ROE' 차이 검정\n",
    "t_stat, p_val = stats.ttest_ind(group_0['ROE'], group_1['ROE'], equal_var=False)\n",
    "print(f\"t-test 결과 (ROE): t={t_stat:.4f}, p={p_val:.4f}\")\n"
   ]
  }
 ],
 "metadata": {
  "language_info": {
   "name": "python"
  }
 },
 "nbformat": 4,
 "nbformat_minor": 4
}
