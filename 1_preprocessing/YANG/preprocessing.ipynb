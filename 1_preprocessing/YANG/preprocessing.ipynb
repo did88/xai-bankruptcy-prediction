{
 "cells": [
  {
   "cell_type": "code",
   "execution_count": 5,
   "id": "1c06d964",
   "metadata": {},
   "outputs": [
    {
     "name": "stdout",
     "output_type": "stream",
     "text": [
      "✅ 전처리 완료: preprocessed_data.csv\n"
     ]
    }
   ],
   "source": [
    "import pandas as pd\n",
    "import numpy as np\n",
    "from scipy.stats.mstats import winsorize\n",
    "\n",
    "# 1. 데이터 불러오기\n",
    "raw_path = '../../0_data/raw/TS2000_RAW.xlsx'\n",
    "df = pd.read_excel(raw_path)\n",
    "\n",
    "# 2. 행 기준 결측치 80% 이상이면 해당 행 제거\n",
    "df = df[df.isnull().mean(axis=1) < 0.8]\n",
    "\n",
    "# 3. 결측치 중앙값으로 대체 (수치형 컬럼만)\n",
    "numeric_cols = df.select_dtypes(include=[np.number]).columns\n",
    "for col in numeric_cols:\n",
    "    if df[col].isna().sum() > 0:\n",
    "        median_val = df[col].median()\n",
    "        df[col] = df[col].fillna(median_val)\n",
    "\n",
    "# 4. 윈저라이징 (상하위 0.5%)\n",
    "for col in numeric_cols:\n",
    "    mask = df[col].notna()\n",
    "    if mask.sum() > 0:\n",
    "        df.loc[mask, col] = winsorize(df.loc[mask, col], limits=[0.005, 0.005])\n",
    "\n",
    "# 5. 상장폐지일 → is_defaulted (1/0), 이후 원본 컬럼 제거\n",
    "if '상장폐지일' in df.columns:\n",
    "    df['is_defaulted'] = df['상장폐지일'].notnull().astype(int)\n",
    "    df.drop(columns='상장폐지일', inplace=True)\n",
    "\n",
    "# 6. 저장\n",
    "output_path = 'preprocessed_data.csv'\n",
    "df.to_csv(output_path, index=False)\n",
    "print(f\"✅ 전처리 완료: {output_path}\")\n",
    "\n"
   ]
  }
 ],
 "metadata": {
  "kernelspec": {
   "display_name": "Python 3",
   "language": "python",
   "name": "python3"
  },
  "language_info": {
   "codemirror_mode": {
    "name": "ipython",
    "version": 3
   },
   "file_extension": ".py",
   "mimetype": "text/x-python",
   "name": "python",
   "nbconvert_exporter": "python",
   "pygments_lexer": "ipython3",
   "version": "3.11.9"
  }
 },
 "nbformat": 4,
 "nbformat_minor": 5
}
