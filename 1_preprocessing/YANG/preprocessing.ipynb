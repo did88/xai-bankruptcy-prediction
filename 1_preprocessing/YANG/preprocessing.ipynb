{
 "cells": [
  {
   "cell_type": "code",
   "execution_count": null,
   "id": "1c06d964",
   "metadata": {},
   "outputs": [
    {
     "name": "stdout",
     "output_type": "stream",
     "text": [
      "🗓️ '회계년도' 기준으로 결측치 포함된 연도 제거 중...\n"
     ]
    },
    {
     "ename": "FileNotFoundError",
     "evalue": "[WinError 3] 지정된 경로를 찾을 수 없습니다: ''",
     "output_type": "error",
     "traceback": [
      "\u001b[31m---------------------------------------------------------------------------\u001b[39m",
      "\u001b[31mFileNotFoundError\u001b[39m                         Traceback (most recent call last)",
      "\u001b[36mCell\u001b[39m\u001b[36m \u001b[39m\u001b[32mIn[4]\u001b[39m\u001b[32m, line 42\u001b[39m\n\u001b[32m     39\u001b[39m         df.loc[mask, col] = winsorize(df.loc[mask, col], limits=[\u001b[32m0.005\u001b[39m, \u001b[32m0.005\u001b[39m])\n\u001b[32m     41\u001b[39m \u001b[38;5;66;03m# 6. 저장\u001b[39;00m\n\u001b[32m---> \u001b[39m\u001b[32m42\u001b[39m \u001b[43mos\u001b[49m\u001b[43m.\u001b[49m\u001b[43mmakedirs\u001b[49m\u001b[43m(\u001b[49m\u001b[43mos\u001b[49m\u001b[43m.\u001b[49m\u001b[43mpath\u001b[49m\u001b[43m.\u001b[49m\u001b[43mdirname\u001b[49m\u001b[43m(\u001b[49m\u001b[43mprocessed_path\u001b[49m\u001b[43m)\u001b[49m\u001b[43m,\u001b[49m\u001b[43m \u001b[49m\u001b[43mexist_ok\u001b[49m\u001b[43m=\u001b[49m\u001b[38;5;28;43;01mTrue\u001b[39;49;00m\u001b[43m)\u001b[49m\n\u001b[32m     43\u001b[39m df.to_csv(processed_path, index=\u001b[38;5;28;01mFalse\u001b[39;00m)\n\u001b[32m     44\u001b[39m \u001b[38;5;28mprint\u001b[39m(\u001b[33m\"\u001b[39m\u001b[33m✅ 전처리 완료. 저장 경로:\u001b[39m\u001b[33m\"\u001b[39m, processed_path)\n",
      "\u001b[36mFile \u001b[39m\u001b[32m<frozen os>:225\u001b[39m, in \u001b[36mmakedirs\u001b[39m\u001b[34m(name, mode, exist_ok)\u001b[39m\n",
      "\u001b[31mFileNotFoundError\u001b[39m: [WinError 3] 지정된 경로를 찾을 수 없습니다: ''"
     ]
    }
   ],
   "source": [
    "import pandas as pd\n",
    "import numpy as np\n",
    "from scipy.stats.mstats import winsorize\n",
    "import os\n",
    "\n",
    "# 1. 경로 설정\n",
    "raw_path = '../../0_data/raw/TS2000_RAW.xlsx'\n",
    "processed_path = 'preprocessed_data.csv'  # 현재 노트북 디렉토리에 저장\n",
    "\n",
    "# 2. 데이터 불러오기\n",
    "df = pd.read_excel(raw_path)\n",
    "\n",
    "# 3. 결측치 처리\n",
    "threshold = 0.8\n",
    "cols_to_impute = df.columns[df.notna().mean() >= threshold]\n",
    "cols_to_drop_by_year = df.columns[df.notna().mean() < threshold]\n",
    "\n",
    "# 중앙값으로 결측치 대체\n",
    "for col in cols_to_impute:\n",
    "    if df[col].isna().sum() > 0:\n",
    "        median_val = df[col].median()\n",
    "        df[col] = df[col].fillna(median_val)\n",
    "\n",
    "# 4. '회계년도' 기준 결측치 행 제거\n",
    "year_col = '회계년도'\n",
    "if year_col in df.columns:\n",
    "    print(f\"🗓️ '{year_col}' 기준으로 결측치 포함된 연도 제거 중...\")\n",
    "    for col in cols_to_drop_by_year:\n",
    "        missing_years = df[df[col].isna()][year_col].unique()\n",
    "        df = df[~df[year_col].isin(missing_years)]\n",
    "else:\n",
    "    print(f\"⚠️ '{year_col}' 컬럼이 존재하지 않아 연도 기준 삭제를 건너뜁니다.\")\n",
    "\n",
    "# 5. 윈저라이징 (상하위 0.5%)\n",
    "numeric_cols = df.select_dtypes(include=[np.number]).columns\n",
    "for col in numeric_cols:\n",
    "    mask = df[col].notna()\n",
    "    if mask.sum() > 0:\n",
    "        df.loc[mask, col] = winsorize(df.loc[mask, col], limits=[0.005, 0.005])\n",
    "\n",
    "# 6. 저장 (디렉토리가 있으면 생성, 없으면 건너뜀)\n",
    "dir_name = os.path.dirname(processed_path)\n",
    "if dir_name:  # 비어 있지 않은 경우에만 디렉토리 생성\n",
    "    os.makedirs(dir_name, exist_ok=True)\n",
    "\n",
    "df.to_csv(processed_path, index=False)\n",
    "print(\"✅ 전처리 완료. 저장 경로:\", os.path.abspath(processed_path))\n"
   ]
  }
 ],
 "metadata": {
  "kernelspec": {
   "display_name": "Python 3",
   "language": "python",
   "name": "python3"
  },
  "language_info": {
   "codemirror_mode": {
    "name": "ipython",
    "version": 3
   },
   "file_extension": ".py",
   "mimetype": "text/x-python",
   "name": "python",
   "nbconvert_exporter": "python",
   "pygments_lexer": "ipython3",
   "version": "3.11.9"
  }
 },
 "nbformat": 4,
 "nbformat_minor": 5
}
