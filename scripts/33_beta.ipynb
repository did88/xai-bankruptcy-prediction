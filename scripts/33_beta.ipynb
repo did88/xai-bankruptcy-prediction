{
 "cells": [
  {
   "cell_type": "code",
   "execution_count": null,
   "metadata": {},
   "outputs": [
    {
     "name": "stderr",
     "output_type": "stream",
     "text": [
      "섹터별 추출:   0%|          | 0/33 [00:00<?, ?it/s]"
     ]
    },
    {
     "name": "stdout",
     "output_type": "stream",
     "text": [
      "[수산·농림업] 섹터 파싱 오류: 'NoneType' object has no attribute 'find_all'\n"
     ]
    },
    {
     "name": "stderr",
     "output_type": "stream",
     "text": [
      "섹터별 추출:   3%|▎         | 1/33 [00:01<00:51,  1.61s/it]"
     ]
    },
    {
     "name": "stdout",
     "output_type": "stream",
     "text": [
      "[광업] 섹터 파싱 오류: 'NoneType' object has no attribute 'find_all'\n"
     ]
    },
    {
     "name": "stderr",
     "output_type": "stream",
     "text": [
      "섹터별 추출:   6%|▌         | 2/33 [00:03<00:48,  1.58s/it]"
     ]
    },
    {
     "name": "stdout",
     "output_type": "stream",
     "text": [
      "[건설업] 섹터 파싱 오류: 'NoneType' object has no attribute 'find_all'\n"
     ]
    },
    {
     "name": "stderr",
     "output_type": "stream",
     "text": [
      "섹터별 추출:   9%|▉         | 3/33 [00:04<00:47,  1.58s/it]"
     ]
    },
    {
     "name": "stdout",
     "output_type": "stream",
     "text": [
      "[식품업] 섹터 파싱 오류: 'NoneType' object has no attribute 'find_all'\n"
     ]
    },
    {
     "name": "stderr",
     "output_type": "stream",
     "text": [
      "섹터별 추출:  12%|█▏        | 4/33 [00:06<00:46,  1.60s/it]"
     ]
    },
    {
     "name": "stdout",
     "output_type": "stream",
     "text": [
      "[섬유·의복업] 섹터 파싱 오류: 'NoneType' object has no attribute 'find_all'\n"
     ]
    },
    {
     "name": "stderr",
     "output_type": "stream",
     "text": [
      "섹터별 추출:  15%|█▌        | 5/33 [00:07<00:44,  1.58s/it]"
     ]
    },
    {
     "name": "stdout",
     "output_type": "stream",
     "text": [
      "[제지업] 섹터 파싱 오류: 'NoneType' object has no attribute 'find_all'\n"
     ]
    },
    {
     "name": "stderr",
     "output_type": "stream",
     "text": [
      "섹터별 추출:  18%|█▊        | 6/33 [00:09<00:42,  1.57s/it]"
     ]
    },
    {
     "name": "stdout",
     "output_type": "stream",
     "text": [
      "[화학업] 섹터 파싱 오류: 'NoneType' object has no attribute 'find_all'\n"
     ]
    },
    {
     "name": "stderr",
     "output_type": "stream",
     "text": [
      "섹터별 추출:  21%|██        | 7/33 [00:11<00:40,  1.56s/it]"
     ]
    },
    {
     "name": "stdout",
     "output_type": "stream",
     "text": [
      "[제약업] 섹터 파싱 오류: 'NoneType' object has no attribute 'find_all'\n"
     ]
    },
    {
     "name": "stderr",
     "output_type": "stream",
     "text": [
      "섹터별 추출:  24%|██▍       | 8/33 [00:12<00:39,  1.56s/it]"
     ]
    },
    {
     "name": "stdout",
     "output_type": "stream",
     "text": [
      "[석유·석탄제품업] 섹터 파싱 오류: 'NoneType' object has no attribute 'find_all'\n"
     ]
    },
    {
     "name": "stderr",
     "output_type": "stream",
     "text": [
      "섹터별 추출:  27%|██▋       | 9/33 [00:14<00:37,  1.56s/it]"
     ]
    },
    {
     "name": "stdout",
     "output_type": "stream",
     "text": [
      "[고무제품업] 섹터 파싱 오류: 'NoneType' object has no attribute 'find_all'\n"
     ]
    },
    {
     "name": "stderr",
     "output_type": "stream",
     "text": [
      "섹터별 추출:  30%|███       | 10/33 [00:15<00:36,  1.58s/it]"
     ]
    },
    {
     "name": "stdout",
     "output_type": "stream",
     "text": [
      "[유리·도자기제품업] 섹터 파싱 오류: 'NoneType' object has no attribute 'find_all'\n"
     ]
    },
    {
     "name": "stderr",
     "output_type": "stream",
     "text": [
      "섹터별 추출:  33%|███▎      | 11/33 [00:17<00:34,  1.57s/it]"
     ]
    },
    {
     "name": "stdout",
     "output_type": "stream",
     "text": [
      "[철강업] 섹터 파싱 오류: 'NoneType' object has no attribute 'find_all'\n"
     ]
    },
    {
     "name": "stderr",
     "output_type": "stream",
     "text": [
      "섹터별 추출:  36%|███▋      | 12/33 [00:18<00:32,  1.57s/it]"
     ]
    },
    {
     "name": "stdout",
     "output_type": "stream",
     "text": [
      "[비철금속업] 섹터 파싱 오류: 'NoneType' object has no attribute 'find_all'\n"
     ]
    },
    {
     "name": "stderr",
     "output_type": "stream",
     "text": [
      "섹터별 추출:  39%|███▉      | 13/33 [00:20<00:31,  1.56s/it]"
     ]
    },
    {
     "name": "stdout",
     "output_type": "stream",
     "text": [
      "[금속제품업] 섹터 파싱 오류: 'NoneType' object has no attribute 'find_all'\n"
     ]
    },
    {
     "name": "stderr",
     "output_type": "stream",
     "text": [
      "섹터별 추출:  42%|████▏     | 14/33 [00:21<00:29,  1.56s/it]"
     ]
    },
    {
     "name": "stdout",
     "output_type": "stream",
     "text": [
      "[기계업] 섹터 파싱 오류: 'NoneType' object has no attribute 'find_all'\n"
     ]
    },
    {
     "name": "stderr",
     "output_type": "stream",
     "text": [
      "섹터별 추출:  45%|████▌     | 15/33 [00:23<00:28,  1.56s/it]"
     ]
    },
    {
     "name": "stdout",
     "output_type": "stream",
     "text": [
      "[전기·전자업] 섹터 파싱 오류: 'NoneType' object has no attribute 'find_all'\n"
     ]
    },
    {
     "name": "stderr",
     "output_type": "stream",
     "text": [
      "섹터별 추출:  48%|████▊     | 16/33 [00:25<00:26,  1.57s/it]"
     ]
    },
    {
     "name": "stdout",
     "output_type": "stream",
     "text": [
      "[운송장비업] 섹터 파싱 오류: 'NoneType' object has no attribute 'find_all'\n"
     ]
    },
    {
     "name": "stderr",
     "output_type": "stream",
     "text": [
      "섹터별 추출:  52%|█████▏    | 17/33 [00:26<00:24,  1.56s/it]"
     ]
    },
    {
     "name": "stdout",
     "output_type": "stream",
     "text": [
      "[정밀기기업] 섹터 파싱 오류: 'NoneType' object has no attribute 'find_all'\n"
     ]
    },
    {
     "name": "stderr",
     "output_type": "stream",
     "text": [
      "섹터별 추출:  55%|█████▍    | 18/33 [00:28<00:23,  1.57s/it]"
     ]
    },
    {
     "name": "stdout",
     "output_type": "stream",
     "text": [
      "[기타제품업] 섹터 파싱 오류: 'NoneType' object has no attribute 'find_all'\n"
     ]
    },
    {
     "name": "stderr",
     "output_type": "stream",
     "text": [
      "섹터별 추출:  58%|█████▊    | 19/33 [00:29<00:21,  1.56s/it]"
     ]
    },
    {
     "name": "stdout",
     "output_type": "stream",
     "text": [
      "[전기·가스업] 섹터 파싱 오류: 'NoneType' object has no attribute 'find_all'\n"
     ]
    },
    {
     "name": "stderr",
     "output_type": "stream",
     "text": [
      "섹터별 추출:  61%|██████    | 20/33 [00:31<00:20,  1.56s/it]"
     ]
    },
    {
     "name": "stdout",
     "output_type": "stream",
     "text": [
      "[육상운송업] 섹터 파싱 오류: 'NoneType' object has no attribute 'find_all'\n"
     ]
    },
    {
     "name": "stderr",
     "output_type": "stream",
     "text": [
      "섹터별 추출:  64%|██████▎   | 21/33 [00:32<00:18,  1.56s/it]"
     ]
    },
    {
     "name": "stdout",
     "output_type": "stream",
     "text": [
      "[해상운송업] 섹터 파싱 오류: 'NoneType' object has no attribute 'find_all'\n"
     ]
    },
    {
     "name": "stderr",
     "output_type": "stream",
     "text": [
      "섹터별 추출:  67%|██████▋   | 22/33 [00:34<00:17,  1.57s/it]"
     ]
    },
    {
     "name": "stdout",
     "output_type": "stream",
     "text": [
      "[항공운송업] 섹터 파싱 오류: 'NoneType' object has no attribute 'find_all'\n"
     ]
    },
    {
     "name": "stderr",
     "output_type": "stream",
     "text": [
      "섹터별 추출:  70%|██████▉   | 23/33 [00:36<00:15,  1.57s/it]"
     ]
    },
    {
     "name": "stdout",
     "output_type": "stream",
     "text": [
      "[창고·하역업] 섹터 파싱 오류: 'NoneType' object has no attribute 'find_all'\n"
     ]
    },
    {
     "name": "stderr",
     "output_type": "stream",
     "text": [
      "섹터별 추출:  73%|███████▎  | 24/33 [00:37<00:14,  1.59s/it]"
     ]
    },
    {
     "name": "stdout",
     "output_type": "stream",
     "text": [
      "[정보통신업] 섹터 파싱 오류: 'NoneType' object has no attribute 'find_all'\n"
     ]
    },
    {
     "name": "stderr",
     "output_type": "stream",
     "text": [
      "섹터별 추출:  76%|███████▌  | 25/33 [00:39<00:12,  1.57s/it]"
     ]
    },
    {
     "name": "stdout",
     "output_type": "stream",
     "text": [
      "[도매업] 섹터 파싱 오류: 'NoneType' object has no attribute 'find_all'\n"
     ]
    },
    {
     "name": "stderr",
     "output_type": "stream",
     "text": [
      "섹터별 추출:  79%|███████▉  | 26/33 [00:40<00:11,  1.57s/it]"
     ]
    },
    {
     "name": "stdout",
     "output_type": "stream",
     "text": [
      "[소매업] 섹터 파싱 오류: 'NoneType' object has no attribute 'find_all'\n"
     ]
    },
    {
     "name": "stderr",
     "output_type": "stream",
     "text": [
      "섹터별 추출:  82%|████████▏ | 27/33 [00:42<00:09,  1.57s/it]"
     ]
    },
    {
     "name": "stdout",
     "output_type": "stream",
     "text": [
      "[은행] 섹터 파싱 오류: 'NoneType' object has no attribute 'find_all'\n"
     ]
    },
    {
     "name": "stderr",
     "output_type": "stream",
     "text": [
      "섹터별 추출:  85%|████████▍ | 28/33 [00:43<00:07,  1.56s/it]"
     ]
    },
    {
     "name": "stdout",
     "output_type": "stream",
     "text": [
      "[증권 및 상품선물업] 섹터 파싱 오류: 'NoneType' object has no attribute 'find_all'\n"
     ]
    },
    {
     "name": "stderr",
     "output_type": "stream",
     "text": [
      "섹터별 추출:  88%|████████▊ | 29/33 [00:45<00:06,  1.56s/it]"
     ]
    },
    {
     "name": "stdout",
     "output_type": "stream",
     "text": [
      "[보험업] 섹터 파싱 오류: 'NoneType' object has no attribute 'find_all'\n"
     ]
    },
    {
     "name": "stderr",
     "output_type": "stream",
     "text": [
      "섹터별 추출:  91%|█████████ | 30/33 [00:47<00:04,  1.56s/it]"
     ]
    },
    {
     "name": "stdout",
     "output_type": "stream",
     "text": [
      "[기타금융업] 섹터 파싱 오류: 'NoneType' object has no attribute 'find_all'\n"
     ]
    },
    {
     "name": "stderr",
     "output_type": "stream",
     "text": [
      "섹터별 추출:  94%|█████████▍| 31/33 [00:48<00:03,  1.56s/it]"
     ]
    },
    {
     "name": "stdout",
     "output_type": "stream",
     "text": [
      "[부동산업] 섹터 파싱 오류: 'NoneType' object has no attribute 'find_all'\n"
     ]
    },
    {
     "name": "stderr",
     "output_type": "stream",
     "text": [
      "섹터별 추출:  97%|█████████▋| 32/33 [00:50<00:01,  1.56s/it]"
     ]
    },
    {
     "name": "stdout",
     "output_type": "stream",
     "text": [
      "[서비스업] 섹터 파싱 오류: 'NoneType' object has no attribute 'find_all'\n"
     ]
    },
    {
     "name": "stderr",
     "output_type": "stream",
     "text": [
      "섹터별 추출: 100%|██████████| 33/33 [00:51<00:00,  1.57s/it]"
     ]
    },
    {
     "name": "stdout",
     "output_type": "stream",
     "text": [
      "✅ 저장 완료: krx_sector_top10.xlsx\n"
     ]
    },
    {
     "name": "stderr",
     "output_type": "stream",
     "text": [
      "\n"
     ]
    }
   ],
   "source": [
    "import requests\n",
    "import pandas as pd\n",
    "from datetime import datetime\n",
    "\n",
    "# 오늘 날짜\n",
    "today = datetime.today().strftime('%Y%m%d')\n",
    "\n",
    "# 요청 파라미터 구성\n",
    "url = 'http://data.krx.co.kr/comm/bldAttendant/getJsonData.cmd'\n",
    "headers = {'Content-Type': 'application/x-www-form-urlencoded'}\n",
    "payload = {\n",
    "    \"bld\": \"dbms/MDC/STAT/standard/MDCSTAT03901\",\n",
    "    \"mktId\": \"ALL\",  # STK: 코스피, KSQ: 코스닥, ALL: 전체\n",
    "    \"trdDd\": today   # 조회 날짜\n",
    "}\n",
    "\n",
    "# POST 요청\n",
    "response = requests.post(url, data=payload, headers=headers)\n",
    "response.raise_for_status()\n",
    "\n",
    "# 결과 파싱\n",
    "data = response.json()['OutBlock1']\n",
    "df = pd.DataFrame(data)\n",
    "\n",
    "# 주요 컬럼 정리\n",
    "df = df[[\"idxNm\", \"tddClspr\", \"flucRt\", \"mktcap\", \"lstCnt\", \"secugrpNm\"]]\n",
    "df.columns = [\"섹터명\", \"종가\", \"등락률\", \"시가총액\", \"종목수\", \"시장구분\"]\n",
    "\n",
    "# 시가총액 숫자형으로 변환\n",
    "df[\"시가총액\"] = df[\"시가총액\"].str.replace(\",\", \"\").astype(float)\n",
    "\n",
    "# 정렬\n",
    "df_sorted = df.sort_values(by=\"시가총액\", ascending=False)\n",
    "\n",
    "# 결과 저장\n",
    "df_sorted.to_excel(\"krx_섹터_시총_정리.xlsx\", index=False)\n",
    "print(\"✅ 저장 완료: krx_섹터_시총_정리.xlsx\")\n"
   ]
  }
 ],
 "metadata": {
  "kernelspec": {
   "display_name": "Python 3",
   "language": "python",
   "name": "python3"
  },
  "language_info": {
   "codemirror_mode": {
    "name": "ipython",
    "version": 3
   },
   "file_extension": ".py",
   "mimetype": "text/x-python",
   "name": "python",
   "nbconvert_exporter": "python",
   "pygments_lexer": "ipython3",
   "version": "3.11.9"
  }
 },
 "nbformat": 4,
 "nbformat_minor": 2
}
