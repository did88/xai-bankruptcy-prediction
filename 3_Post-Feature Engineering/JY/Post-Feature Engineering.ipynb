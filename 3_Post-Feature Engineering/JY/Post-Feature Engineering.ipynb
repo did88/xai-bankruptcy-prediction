{
 "cells": [
  {
   "cell_type": "markdown",
   "id": "2ea0315d",
   "metadata": {},
   "source": [
    "### Lasso 기반 피처선택 및 SMOTE 적용\n",
    "\n",
    "- 전처리된 데이터 불러오기\n",
    "- VIF 기반 피처선택 및 Lasso(L1)로 최종 변수 선택\n",
    "- 선택된 변수만 추출, 표준화\n",
    "- SMOTE로 클래스 불균형 보정\n",
    "- 학습/검증 데이터 csv 저장"
   ]
  },
  {
   "cell_type": "code",
   "execution_count": 1,
   "id": "7faac58d",
   "metadata": {},
   "outputs": [
    {
     "name": "stdout",
     "output_type": "stream",
     "text": [
      "✅ 선택된 피처: ['유동비율', '순운전자본비율', '현금비율', '현금흐름부채비율', '자본잠식여부', '총자산증가율', '유동자산증가율', '매출액증가율', '순이익증가율', '영업이익증가율', '자산대비영업현금흐름', 'ROE', 'ROA', '총자산영업이익율', '이익잉여금비율', '비유동자산회전율', '판관비율', '매출채권회전율', '재고자산회전율', '재무활동의존도']\n",
      "✅ SMOTE 적용: (13899, 20) → (27484, 20)\n",
      "✅ SMOTE 적용: (13899, 20) → (27484, 20)\n",
      "✅ 학습/검증 데이터 저장: train_data_with_smote.csv, val_data.csv\n",
      "✅ 학습/검증 데이터 저장: train_data_with_smote.csv, val_data.csv\n"
     ]
    }
   ],
   "source": [
    "import pandas as pd\n",
    "import numpy as np\n",
    "from sklearn.model_selection import TimeSeriesSplit\n",
    "from sklearn.linear_model import LogisticRegression\n",
    "from sklearn.feature_selection import SelectFromModel\n",
    "from sklearn.preprocessing import StandardScaler\n",
    "from imblearn.over_sampling import SMOTE, BorderlineSMOTE\n",
    "\n",
    "def load_and_prepare_data(path):\n",
    "    df = pd.read_csv(path, dtype={'stock_code':str, 'year':str})\n",
    "    df = df.drop(['Unnamed: 0'], axis=1)\n",
    "    df = df.sort_values(by='year')\n",
    "    X = df.drop(columns=['is_defaulted', 'corp_nm', 'year'], errors='ignore')\n",
    "    y = df['is_defaulted']\n",
    "    X = X.select_dtypes(include='number')\n",
    "    return X, y, df\n",
    "\n",
    "def time_series_split(X, y, n_splits=5):\n",
    "    tscv = TimeSeriesSplit(n_splits=n_splits)\n",
    "    for train_index, val_index in tscv.split(X):\n",
    "        X_train, X_val = X.iloc[train_index], X.iloc[val_index]\n",
    "        y_train, y_val = y.iloc[train_index], y.iloc[val_index]\n",
    "    return X_train, X_val, y_train, y_val\n",
    "\n",
    "def lasso_feature_selection(X_train, y_train, X_val, random_state=42):\n",
    "    scaler = StandardScaler()\n",
    "    X_train_scaled = scaler.fit_transform(X_train)\n",
    "    X_val_scaled = scaler.transform(X_val)\n",
    "    model = LogisticRegression(penalty='l1', solver='liblinear', random_state=random_state)\n",
    "    model.fit(X_train_scaled, y_train)\n",
    "    selector = SelectFromModel(model, prefit=True)\n",
    "    X_train_selected = selector.transform(X_train_scaled)\n",
    "    X_val_selected = selector.transform(X_val_scaled)\n",
    "    selected_features = X_train.columns[selector.get_support()]\n",
    "    print(\"✅ 선택된 피처:\", selected_features.tolist())\n",
    "    return X_train_selected, X_val_selected, selected_features, scaler, selector\n",
    "\n",
    "def apply_smote(X_train, y_train, random_state=42):\n",
    "    smote = BorderlineSMOTE(random_state=random_state)\n",
    "    X_train_smote, y_train_smote = smote.fit_resample(X_train, y_train.reset_index(drop=True))\n",
    "    print(f\"✅ SMOTE 적용: {X_train.shape} → {X_train_smote.shape}\")\n",
    "    return X_train_smote, y_train_smote\n",
    "\n",
    "def save_to_csv(X_train, y_train, X_val, y_val, train_path, val_path):\n",
    "    train_output = pd.concat([pd.DataFrame(X_train), pd.Series(y_train, name='is_defaulted')], axis=1)\n",
    "    val_output = pd.concat([pd.DataFrame(X_val), pd.Series(y_val, name='is_defaulted')], axis=1)\n",
    "    train_output.to_csv(train_path, index=False)\n",
    "    val_output.to_csv(val_path, index=False)\n",
    "    print(f\"✅ 학습/검증 데이터 저장: {train_path}, {val_path}\")\n",
    "\n",
    "# === 실행 ===\n",
    "X, y, df = load_and_prepare_data('../../2_EDA/JY/features_v1_vif.csv')\n",
    "X_train, X_val, y_train, y_val = time_series_split(X, y)\n",
    "X_train_selected, X_val_selected, selected_features, scaler, selector = lasso_feature_selection(X_train, y_train, X_val)\n",
    "X_train_final = pd.DataFrame(X_train_selected, columns=selected_features)\n",
    "X_val_final = pd.DataFrame(X_val_selected, columns=selected_features)\n",
    "X_train_smote, y_train_smote = apply_smote(X_train_final, y_train)\n",
    "save_to_csv(X_train_smote, y_train_smote, X_val_final, y_val.reset_index(drop=True), 'train_data_with_smote.csv', 'val_data.csv')\n"
   ]
  }
 ],
 "metadata": {
  "kernelspec": {
   "display_name": ".venv",
   "language": "python",
   "name": "python3"
  },
  "language_info": {
   "codemirror_mode": {
    "name": "ipython",
    "version": 3
   },
   "file_extension": ".py",
   "mimetype": "text/x-python",
   "name": "python",
   "nbconvert_exporter": "python",
   "pygments_lexer": "ipython3",
   "version": "3.11.3"
  }
 },
 "nbformat": 4,
 "nbformat_minor": 5
}
