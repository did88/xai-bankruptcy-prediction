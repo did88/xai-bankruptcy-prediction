{
 "cells": [
  {
   "cell_type": "code",
   "execution_count": 2,
   "id": "7faac58d",
   "metadata": {},
   "outputs": [
    {
     "name": "stdout",
     "output_type": "stream",
     "text": [
      "✅ 선택된 피처: ['거래소코드', '자산(*)(IFRS)(천원)', '유동자산(*)(IFRS)(천원)', '이익잉여금(결손금)(*)(IFRS)(천원)', '비유동부채 (*)(IFRS)(천원)', '유동부채(*)(IFRS)(천원)', '현금및현금성자산(*)(IFRS)(천원)', '영업활동으로 인한 현금흐름(간접법)(*)(IFRS)(천원)', '재무활동으로 인한 현금흐름(*)(IFRS)(천원)', '기초 현금및현금성자산(IFRS)(천원)', '매출액(수익)(*)(IFRS)(천원)', '매출총이익(손실)(IFRS)(천원)', '* (정상)영업손익(보고서기재)(IFRS)(천원)', '매출원가(*)(IFRS)(천원)', '당기순이익(손실)(IFRS)(천원)', '매출채권(IFRS)(천원)']\n",
      "✅ SMOTE 적용된 학습 데이터 저장: train_data_with_smote.csv\n",
      "✅ 검증 데이터 저장: val_data.csv\n"
     ]
    }
   ],
   "source": [
    "import pandas as pd\n",
    "import numpy as np\n",
    "from sklearn.model_selection import TimeSeriesSplit\n",
    "from sklearn.linear_model import LogisticRegression\n",
    "from sklearn.feature_selection import SelectFromModel\n",
    "from sklearn.preprocessing import StandardScaler\n",
    "from imblearn.over_sampling import SMOTE\n",
    "\n",
    "# 📂 데이터 불러오기\n",
    "df = pd.read_csv('../../1_preprocessing/YANG/preprocessed_data.csv')\n",
    "\n",
    "# ⏱️ 시계열 순서 정렬\n",
    "df = df.sort_values(by='회계년도')\n",
    "\n",
    "# 🎯 X, y 분리\n",
    "X = df.drop(columns=['is_defaulted', '회사명', '회계년도'], errors='ignore')\n",
    "y = df['is_defaulted']\n",
    "X = X.select_dtypes(include='number')\n",
    "\n",
    "# ⏱️ TimeSeriesSplit (마지막 fold 사용)\n",
    "tscv = TimeSeriesSplit(n_splits=5)\n",
    "for train_index, val_index in tscv.split(X):\n",
    "    X_train, X_val = X.iloc[train_index], X.iloc[val_index]\n",
    "    y_train, y_val = y.iloc[train_index], y.iloc[val_index]\n",
    "\n",
    "# 📏 스케일링\n",
    "scaler = StandardScaler()\n",
    "X_train_scaled = scaler.fit_transform(X_train)\n",
    "X_val_scaled = scaler.transform(X_val)\n",
    "\n",
    "# 🔍 L1 로지스틱 회귀로 피처 선택\n",
    "model = LogisticRegression(penalty='l1', solver='liblinear', random_state=42)\n",
    "model.fit(X_train_scaled, y_train)\n",
    "\n",
    "selector = SelectFromModel(model, prefit=True)\n",
    "X_train_selected = selector.transform(X_train_scaled)\n",
    "X_val_selected = selector.transform(X_val_scaled)\n",
    "\n",
    "# 💡 선택된 컬럼 이름\n",
    "selected_features = X.columns[selector.get_support()]\n",
    "print(\"✅ 선택된 피처:\", selected_features.tolist())\n",
    "\n",
    "# 🎯 선택된 피처만 추출해 원본에서도 재구성\n",
    "X_train_final = pd.DataFrame(X_train_selected, columns=selected_features)\n",
    "X_val_final = pd.DataFrame(X_val_selected, columns=selected_features)\n",
    "\n",
    "# 🧪 SMOTE 적용 (훈련 데이터만!)\n",
    "smote = SMOTE(random_state=42)\n",
    "X_train_smote, y_train_smote = smote.fit_resample(X_train_final, y_train.reset_index(drop=True))\n",
    "\n",
    "# 💾 CSV 파일로 저장\n",
    "train_output = pd.concat([X_train_smote, pd.Series(y_train_smote, name='is_defaulted')], axis=1)\n",
    "val_output = pd.concat([X_val_final.reset_index(drop=True), y_val.reset_index(drop=True)], axis=1)\n",
    "\n",
    "train_output.to_csv('train_data_with_smote.csv', index=False)\n",
    "val_output.to_csv('val_data.csv', index=False)\n",
    "\n",
    "print(\"✅ SMOTE 적용된 학습 데이터 저장: train_data_with_smote.csv\")\n",
    "print(\"✅ 검증 데이터 저장: val_data.csv\")\n"
   ]
  }
 ],
 "metadata": {
  "kernelspec": {
   "display_name": "Python 3",
   "language": "python",
   "name": "python3"
  },
  "language_info": {
   "codemirror_mode": {
    "name": "ipython",
    "version": 3
   },
   "file_extension": ".py",
   "mimetype": "text/x-python",
   "name": "python",
   "nbconvert_exporter": "python",
   "pygments_lexer": "ipython3",
   "version": "3.11.9"
  }
 },
 "nbformat": 4,
 "nbformat_minor": 5
}
