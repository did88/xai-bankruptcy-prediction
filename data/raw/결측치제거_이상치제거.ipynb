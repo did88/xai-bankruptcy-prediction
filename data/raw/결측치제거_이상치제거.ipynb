{
 "cells": [
  {
   "cell_type": "code",
   "execution_count": null,
   "id": "f3f43f9a",
   "metadata": {},
   "outputs": [],
   "source": [
    "\n",
    "import pandas as pd\n",
    "\n",
    "# CSV 파일 로드\n",
    "df = pd.read_csv(\"ts2000_y_processed_v1.csv\")\n",
    "df.head()\n"
   ]
  },
  {
   "cell_type": "code",
   "execution_count": null,
   "id": "520ba796",
   "metadata": {},
   "outputs": [],
   "source": [
    "\n",
    "from scipy.stats.mstats import winsorize\n",
    "\n",
    "# 수치형 컬럼 중 is_defaulted 제외\n",
    "numeric_cols = df.select_dtypes(include='number').columns.tolist()\n",
    "numeric_cols = [col for col in numeric_cols if col != 'is_defaulted']\n",
    "\n",
    "df_winsorized = df.copy()\n",
    "\n",
    "# 각 컬럼에 대해 상하단 1% 윈저라이징 적용\n",
    "for col in numeric_cols:\n",
    "    col_data = df_winsorized[col].dropna()\n",
    "    winsorized_data = winsorize(col_data, limits=[0.01, 0.01])\n",
    "    df_winsorized.loc[col_data.index, col] = winsorized_data\n"
   ]
  },
  {
   "cell_type": "code",
   "execution_count": null,
   "id": "09649348",
   "metadata": {},
   "outputs": [],
   "source": [
    "\n",
    "import matplotlib.pyplot as plt\n",
    "import matplotlib.font_manager as fm\n",
    "\n",
    "# 한글 폰트 설정\n",
    "plt.rcParams['font.family'] = 'Malgun Gothic'  # Windows 기준\n",
    "plt.rcParams['axes.unicode_minus'] = False\n",
    "\n",
    "# 히스토그램 (예시로 상위 5개 컬럼만)\n",
    "for col in numeric_cols[:5]:\n",
    "    plt.figure(figsize=(8, 4))\n",
    "    df_winsorized[col].hist(bins=50)\n",
    "    plt.title(f'{col} 분포 (윈저라이징 적용)')\n",
    "    plt.xlabel(col)\n",
    "    plt.ylabel('빈도수')\n",
    "    plt.grid(True)\n",
    "    plt.tight_layout()\n",
    "    plt.show()\n"
   ]
  },
  {
   "cell_type": "code",
   "execution_count": null,
   "id": "e17f9127",
   "metadata": {},
   "outputs": [],
   "source": [
    "\n",
    "df_winsorized.to_csv(\"ts2000_y_winsorized.csv\", index=False)\n",
    "print(\"윈저라이징된 데이터가 'ts2000_y_winsorized.csv'로 저장되었습니다.\")\n"
   ]
  }
 ],
 "metadata": {},
 "nbformat": 4,
 "nbformat_minor": 5
}