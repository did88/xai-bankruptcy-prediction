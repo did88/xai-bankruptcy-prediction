{
 "cells": [
  {
   "cell_type": "code",
   "execution_count": 1,
   "metadata": {},
   "outputs": [
    {
     "name": "stdout",
     "output_type": "stream",
     "text": [
      "   corp_code corp_name  stock_code  bsns_year        rcept_no  reprt_code  \\\n",
      "0     119195      동화약품          20       2015  20160330001826       11011   \n",
      "1     119195      동화약품          20       2015  20160330001826       11011   \n",
      "2     119195      동화약품          20       2015  20160330001826       11011   \n",
      "3     119195      동화약품          20       2015  20160330001826       11011   \n",
      "4     119195      동화약품          20       2015  20160330001826       11011   \n",
      "\n",
      "  fs_div fs_nm sj_div  sj_nm  ...        시장구분   업종      업종명   통화       결산기준일  \\\n",
      "0    CFS  재무제표     BS  재무상태표  ...  유가증권시장상장법인  212  의약품 제조업  KRW  2015-12-31   \n",
      "1    CFS  재무제표     BS  재무상태표  ...  유가증권시장상장법인  212  의약품 제조업  KRW  2015-12-31   \n",
      "2    CFS  재무제표     BS  재무상태표  ...  유가증권시장상장법인  212  의약품 제조업  KRW  2015-12-31   \n",
      "3    CFS  재무제표     BS  재무상태표  ...  유가증권시장상장법인  212  의약품 제조업  KRW  2015-12-31   \n",
      "4    CFS  재무제표     BS  재무상태표  ...  유가증권시장상장법인  212  의약품 제조업  KRW  2015-12-31   \n",
      "\n",
      "          기말의현금         기초의현금      영업활동현금흐름      재무활동현금흐름     투자활동현금흐름  \n",
      "0  4.488938e+10  3.262318e+10  1.983311e+10 -6.588907e+09 -979732307.0  \n",
      "1  4.488938e+10  3.262318e+10  1.983311e+10 -6.588907e+09 -979732307.0  \n",
      "2  4.488938e+10  3.262318e+10  1.983311e+10 -6.588907e+09 -979732307.0  \n",
      "3  4.488938e+10  3.262318e+10  1.983311e+10 -6.588907e+09 -979732307.0  \n",
      "4  4.488938e+10  3.262318e+10  1.983311e+10 -6.588907e+09 -979732307.0  \n",
      "\n",
      "[5 rows x 36 columns]\n"
     ]
    }
   ],
   "source": [
    "import pandas as pd\n",
    "\n",
    "# 파일 경로 설정\n",
    "excel_path = 'dart_statements_2015_2024_merged.xlsx'\n",
    "csv_path = '현금흐름표_간접법_별도_12월.csv'\n",
    "\n",
    "# 1. 엑셀 파일에서 1번 시트 불러오기\n",
    "excel_df = pd.read_excel(excel_path, sheet_name=0)\n",
    "\n",
    "# 2. CSV 파일 전체 불러오기\n",
    "csv_df = pd.read_csv(csv_path)\n",
    "\n",
    "# 3. CSV의 결산기준일에서 연도 추출\n",
    "csv_df['bsns_year'] = pd.to_datetime(csv_df['결산기준일']).dt.year\n",
    "\n",
    "# 4. 병합 수행: 회사명 + 연도 기준\n",
    "merged_df = pd.merge(\n",
    "    excel_df,\n",
    "    csv_df,\n",
    "    left_on=['corp_name', 'bsns_year'],\n",
    "    right_on=['회사명', 'bsns_year'],\n",
    "    how='inner'  # 또는 'outer', 'left', 'right' 등 필요에 따라\n",
    ")\n",
    "\n",
    "# 5. 결과 저장 (선택)\n",
    "merged_df.to_csv('병합결과.csv', index=False)\n",
    "\n",
    "# 미리보기\n",
    "print(merged_df.head())\n"
   ]
  },
  {
   "cell_type": "code",
   "execution_count": 2,
   "metadata": {},
   "outputs": [
    {
     "name": "stdout",
     "output_type": "stream",
     "text": [
      "엑셀 파일이 성공적으로 저장되었습니다: 병합결과.xlsx\n"
     ]
    }
   ],
   "source": [
    "import pandas as pd\n",
    "\n",
    "# 변환할 CSV 파일 경로\n",
    "csv_file_path = '병합결과.csv'  # 파일이 스크립트와 같은 폴더에 있어야 합니다\n",
    "\n",
    "# 저장할 Excel 파일 경로\n",
    "excel_file_path = '병합결과.xlsx'\n",
    "\n",
    "# CSV 읽기\n",
    "df = pd.read_csv(csv_file_path)\n",
    "\n",
    "# Excel로 저장 (openpyxl 엔진 사용)\n",
    "df.to_excel(excel_file_path, index=False, engine='openpyxl')\n",
    "\n",
    "print(f\"엑셀 파일이 성공적으로 저장되었습니다: {excel_file_path}\")\n"
   ]
  },
  {
   "cell_type": "code",
   "execution_count": 4,
   "metadata": {},
   "outputs": [
    {
     "name": "stdout",
     "output_type": "stream",
     "text": [
      "열 이름이 변경된 엑셀 파일이 생성되었습니다: dart_statements_한글열이름.xlsx\n"
     ]
    }
   ],
   "source": [
    "import pandas as pd\n",
    "\n",
    "# 파일 불러오기\n",
    "df = pd.read_excel(\"dart_statements_2015_2024_merged.xlsx\")\n",
    "\n",
    "# 열 이름 매핑 사전\n",
    "column_mapping = {\n",
    "    'corp_code': '회사 고유 코드',\n",
    "    'corp_name': '회사명',\n",
    "    'stock_code': '종목코드',\n",
    "    'bsns_year': '사업연도',\n",
    "    'reprt_code': '보고서 코드',\n",
    "    'fs_div': '재무제표 구분',\n",
    "    'fs_nm': '재무제표명',\n",
    "    'sj_div': '재무제표 항목 구분',\n",
    "    'sj_nm': '재무제표 항목 이름',\n",
    "    'account_id': '계정 ID',\n",
    "    'account_nm': '계정명',\n",
    "    'account_detail': '계정상세',\n",
    "    'thstrm_nm': '당기명',\n",
    "    'thstrm_dt': '당기일자',\n",
    "    'thstrm_amount': '당기 금액',\n",
    "    'frmtrm_nm': '전기명',\n",
    "    'frmtrm_dt': '전기일자',\n",
    "    'frmtrm_amount': '전기 금액',\n",
    "    'bfefrmtrm_nm': '전전기명',\n",
    "    'bfefrmtrm_dt': '전전기일자',\n",
    "    'bfefrmtrm_amount': '전전기 금액',\n",
    "    'ord': '순서',\n",
    "    'currency': '통화 단위'\n",
    "}\n",
    "\n",
    "# 열 이름 변경\n",
    "df = df.rename(columns=column_mapping)\n",
    "\n",
    "# 결과 저장\n",
    "df.to_excel(\"dart_statements_한글열이름.xlsx\", index=False)\n",
    "\n",
    "print(\"열 이름이 변경된 엑셀 파일이 생성되었습니다: dart_statements_한글열이름.xlsx\")\n"
   ]
  },
  {
   "cell_type": "code",
   "execution_count": 5,
   "metadata": {},
   "outputs": [
    {
     "ename": "IndentationError",
     "evalue": "unexpected indent (3440829928.py, line 5)",
     "output_type": "error",
     "traceback": [
      "\u001b[1;36m  Cell \u001b[1;32mIn[5], line 5\u001b[1;36m\u001b[0m\n\u001b[1;33m    + '?basDd='  # request inBlock\u001b[0m\n\u001b[1;37m    ^\u001b[0m\n\u001b[1;31mIndentationError\u001b[0m\u001b[1;31m:\u001b[0m unexpected indent\n"
     ]
    }
   ],
   "source": [
    "import requests\n",
    "import json\n",
    "\n",
    "url = 'http://data-dbg.krx.co.kr/svc/sample/apis/sto/stk_isu_base_info'  # URL\n",
    "      + '?basDd='  # request inBlock\n",
    "      + '20230707'  # yyyymmdd\n",
    "headers = {\n",
    "    'AUTH_KEY': '74D1B99DFBF345BBA3FB4476510A4BED4C78D13A'  # sample auth key\n",
    "}\n",
    "res = requests.get(url=url, headers=headers)\n",
    "print('200 is ok :', res.status_code)\n",
    "print(res.text)"
   ]
  }
 ],
 "metadata": {
  "kernelspec": {
   "display_name": "Python 3",
   "language": "python",
   "name": "python3"
  },
  "language_info": {
   "codemirror_mode": {
    "name": "ipython",
    "version": 3
   },
   "file_extension": ".py",
   "mimetype": "text/x-python",
   "name": "python",
   "nbconvert_exporter": "python",
   "pygments_lexer": "ipython3",
   "version": "3.11.9"
  }
 },
 "nbformat": 4,
 "nbformat_minor": 2
}
