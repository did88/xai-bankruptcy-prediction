{
 "cells": [
  {
   "cell_type": "code",
   "execution_count": null,
   "metadata": {},
   "outputs": [],
   "source": [
    "import pandas as pd\n",
    "\n",
    "# 파일 경로 설정\n",
    "excel_path = 'dart_statements_2015_2024_merged.xlsx'\n",
    "csv_path = '현금흐름표_간접법_별도_12월.csv'\n",
    "\n",
    "# 1. 엑셀 파일에서 1번 시트 불러오기\n",
    "excel_df = pd.read_excel(excel_path, sheet_name=0)\n",
    "\n",
    "# 2. CSV 파일 전체 불러오기\n",
    "csv_df = pd.read_csv(csv_path)\n",
    "\n",
    "# 3. CSV의 결산기준일에서 연도 추출\n",
    "csv_df['bsns_year'] = pd.to_datetime(csv_df['결산기준일']).dt.year\n",
    "\n",
    "# 4. 병합 수행: 회사명 + 연도 기준\n",
    "merged_df = pd.merge(\n",
    "    excel_df,\n",
    "    csv_df,\n",
    "    left_on=['corp_name', 'bsns_year'],\n",
    "    right_on=['회사명', 'bsns_year'],\n",
    "    how='inner'  # 또는 'outer', 'left', 'right' 등 필요에 따라\n",
    ")\n",
    "\n",
    "# 5. 결과 저장 (선택)\n",
    "merged_df.to_csv('병합결과.csv', index=False)\n",
    "\n",
    "# 미리보기\n",
    "print(merged_df.head())\n"
   ]
  }
 ],
 "metadata": {
  "language_info": {
   "name": "python"
  }
 },
 "nbformat": 4,
 "nbformat_minor": 2
}
