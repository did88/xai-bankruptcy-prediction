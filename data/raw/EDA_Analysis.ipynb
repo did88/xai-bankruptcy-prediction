{
 "cells": [
  {
   "cell_type": "code",
   "execution_count": null,
   "id": "54e01992",
   "metadata": {},
   "outputs": [],
   "source": [
    "# EDA.ipynb\n",
    "# ---------------------------\n",
    "# 자동 생성된 EDA 분석 노트북\n",
    "# ---------------------------"
   ]
  },
  {
   "cell_type": "code",
   "execution_count": null,
   "id": "7d4d1500",
   "metadata": {},
   "outputs": [],
   "source": [
    "import pandas as pd\n",
    "import matplotlib.pyplot as plt\n",
    "import seaborn as sns"
   ]
  },
  {
   "cell_type": "code",
   "execution_count": null,
   "id": "c3e9292e",
   "metadata": {},
   "outputs": [],
   "source": [
    "# Load dataset\n",
    "file_path = \"ts20002.xlsx\"\n",
    "df = pd.read_excel(file_path)"
   ]
  },
  {
   "cell_type": "code",
   "execution_count": null,
   "id": "96ee1eef",
   "metadata": {},
   "outputs": [],
   "source": [
    "# 기본 정보 확인\n",
    "print(\"기본 정보:\")\n",
    "print(df.info())"
   ]
  },
  {
   "cell_type": "code",
   "execution_count": null,
   "id": "1462e877",
   "metadata": {},
   "outputs": [],
   "source": [
    "print(\"\\n기초 통계량:\")\n",
    "print(df.describe(include='all'))"
   ]
  },
  {
   "cell_type": "code",
   "execution_count": null,
   "id": "5f71fb2c",
   "metadata": {},
   "outputs": [],
   "source": [
    "# 결측치 확인\n",
    "print(\"\\n결측치 개수:\")\n",
    "print(df.isnull().sum())"
   ]
  },
  {
   "cell_type": "code",
   "execution_count": null,
   "id": "663fef14",
   "metadata": {},
   "outputs": [],
   "source": [
    "# 데이터 타입 확인\n",
    "print(\"\\n데이터 타입:\")\n",
    "print(df.dtypes)"
   ]
  },
  {
   "cell_type": "code",
   "execution_count": null,
   "id": "4ebfd86b",
   "metadata": {},
   "outputs": [],
   "source": [
    "# 범주형 변수 분포\n",
    "categorical_cols = df.select_dtypes(include='object').columns\n",
    "print(\"\\n범주형 변수 값 분포:\")\n",
    "for col in categorical_cols:\n",
    "    print(f\"\\n{col} 분포:\")\n",
    "    print(df[col].value_counts())"
   ]
  },
  {
   "cell_type": "code",
   "execution_count": null,
   "id": "bd6cda12",
   "metadata": {},
   "outputs": [],
   "source": [
    "# 수치형 변수 간 상관관계\n",
    "print(\"\\n수치형 변수 간 상관관계:\")\n",
    "numeric_df = df.select_dtypes(include='number')\n",
    "correlation_matrix = numeric_df.corr()\n",
    "print(correlation_matrix)"
   ]
  },
  {
   "cell_type": "code",
   "execution_count": null,
   "id": "a07ef4d4",
   "metadata": {},
   "outputs": [],
   "source": [
    "plt.figure(figsize=(12, 10))\n",
    "sns.heatmap(correlation_matrix, annot=True, fmt=\".2f\")\n",
    "plt.title(\"상관 행렬 히트맵\")\n",
    "plt.show()"
   ]
  },
  {
   "cell_type": "code",
   "execution_count": null,
   "id": "2447d58a",
   "metadata": {},
   "outputs": [],
   "source": [
    "# 주요 수치형 변수 히스토그램\n",
    "print(\"\\n수치형 변수 히스토그램:\")\n",
    "for col in numeric_df.columns:\n",
    "    plt.figure()\n",
    "    sns.histplot(df[col].dropna(), kde=True)\n",
    "    plt.title(f\"{col} 분포\")\n",
    "    plt.xlabel(col)\n",
    "    plt.ylabel(\"빈도수\")\n",
    "    plt.show()"
   ]
  }
 ],
 "metadata": {},
 "nbformat": 4,
 "nbformat_minor": 5
}
