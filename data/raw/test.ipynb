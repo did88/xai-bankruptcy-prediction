{
 "cells": [
  {
   "cell_type": "code",
   "execution_count": null,
   "metadata": {},
   "outputs": [],
   "source": [
    "import pandas as pd\n",
    "\n",
    "# 파일 경로 설정\n",
    "excel_path = 'dart_statements_2015_2024_merged.xlsx'\n",
    "csv_path = '현금흐름표_간접법_별도_12월.csv'\n",
    "\n",
    "# 1. 엑셀 파일에서 1번 시트 불러오기\n",
    "excel_df = pd.read_excel(excel_path, sheet_name=0)\n",
    "\n",
    "# 2. CSV 파일 전체 불러오기\n",
    "csv_df = pd.read_csv(csv_path)\n",
    "\n",
    "# 3. CSV의 결산기준일에서 연도 추출\n",
    "csv_df['bsns_year'] = pd.to_datetime(csv_df['결산기준일']).dt.year\n",
    "\n",
    "# 4. 병합 수행: 회사명 + 연도 기준\n",
    "merged_df = pd.merge(\n",
    "    excel_df,\n",
    "    csv_df,\n",
    "    left_on=['corp_name', 'bsns_year'],\n",
    "    right_on=['회사명', 'bsns_year'],\n",
    "    how='inner'  # 또는 'outer', 'left', 'right' 등 필요에 따라\n",
    ")\n",
    "\n",
    "# 5. 결과 저장 (선택)\n",
    "merged_df.to_csv('병합결과.csv', index=False)\n",
    "\n",
    "# 미리보기\n",
    "print(merged_df.head())\n"
   ]
  },
  {
   "cell_type": "code",
   "execution_count": 2,
   "metadata": {},
   "outputs": [
    {
     "name": "stdout",
     "output_type": "stream",
     "text": [
      "✅ 엑셀 저장 완료: ecos_macro_data_2015_2023.xlsx\n"
     ]
    }
   ],
   "source": [
    "import os\n",
    "import requests\n",
    "import pandas as pd\n",
    "from dotenv import load_dotenv\n",
    "from time import sleep\n",
    "\n",
    "# 1. .env에서 API 키 로드\n",
    "load_dotenv()\n",
    "ECOS_API_KEY = os.getenv(\"ECOS_API_KEY\")\n",
    "\n",
    "# 2. ECOS 지표 정의\n",
    "ecos_items = [\n",
    "    {\"stat_code\": \"060Y001\", \"cycle\": \"M\", \"itm_code\": \"010101000\", \"name\": \"CD_91일\"},\n",
    "    {\"stat_code\": \"200Y002\", \"cycle\": \"Q\", \"itm_code\": \"AA0101\", \"name\": \"실질GDP\"},\n",
    "    {\"stat_code\": \"731Y002\", \"cycle\": \"M\", \"itm_code\": \"0000001\", \"name\": \"환율\"},\n",
    "    {\"stat_code\": \"902Y001\", \"cycle\": \"M\", \"itm_code\": \"0000001\", \"name\": \"CPI\"},\n",
    "    {\"stat_code\": \"901Y001\", \"cycle\": \"M\", \"itm_code\": \"0000001\", \"name\": \"PPI\"},\n",
    "    {\"stat_code\": \"060Y001\", \"cycle\": \"M\", \"itm_code\": \"010301000\", \"name\": \"국고채_3Y\"}\n",
    "]\n",
    "\n",
    "start_year = 2015\n",
    "end_year = 2023\n",
    "\n",
    "all_data = []\n",
    "\n",
    "# 3. ECOS API 요청\n",
    "for item in ecos_items:\n",
    "    url = (\n",
    "        f\"https://ecos.bok.or.kr/api/StatisticSearch/{ECOS_API_KEY}/json/kr/1/10000/\"\n",
    "        f\"{item['stat_code']}/{item['cycle']}/{start_year}/{end_year}/{item['itm_code']}\"\n",
    "    )\n",
    "\n",
    "    try:\n",
    "        response = requests.get(url)\n",
    "        sleep(1.5)\n",
    "\n",
    "        if response.status_code == 200:\n",
    "            rows = response.json().get(\"StatisticSearch\", {}).get(\"row\", [])\n",
    "            for row in rows:\n",
    "                all_data.append({\n",
    "                    \"지표명\": item[\"name\"],\n",
    "                    \"시점\": row[\"TIME\"],\n",
    "                    \"값\": row[\"DATA_VALUE\"]\n",
    "                })\n",
    "        else:\n",
    "            print(f\"[{item['name']}] 요청 실패: {response.status_code}\")\n",
    "    except Exception as e:\n",
    "        print(f\"[{item['name']}] 예외 발생: {e}\")\n",
    "\n",
    "# 4. DataFrame으로 변환 및 Excel 저장 (encoding 제거!)\n",
    "df = pd.DataFrame(all_data)\n",
    "df.to_excel(\"ecos_macro_data_2015_2023.xlsx\", index=False, engine=\"openpyxl\")\n",
    "\n",
    "print(\"✅ 엑셀 저장 완료: ecos_macro_data_2015_2023.xlsx\")\n"
   ]
  }
 ],
 "metadata": {
  "kernelspec": {
   "display_name": "Python 3",
   "language": "python",
   "name": "python3"
  },
  "language_info": {
   "codemirror_mode": {
    "name": "ipython",
    "version": 3
   },
   "file_extension": ".py",
   "mimetype": "text/x-python",
   "name": "python",
   "nbconvert_exporter": "python",
   "pygments_lexer": "ipython3",
   "version": "3.11.9"
  }
 },
 "nbformat": 4,
 "nbformat_minor": 2
}
