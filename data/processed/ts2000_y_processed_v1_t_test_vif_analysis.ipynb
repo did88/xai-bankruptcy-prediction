{
 "cells": [
  {
   "cell_type": "markdown",
   "id": "d55e6bcd",
   "metadata": {},
   "source": [
    "# t-test 및 다중공선성(VIF) 분석\n",
    "이 노트북은 `ts2000_y_processed_v1.csv` 데이터를 기반으로 다음 두 가지 분석을 수행합니다:\n",
    "1. **t-test**: `영업이익_당기` 변수에 대해 `is_defaulted` 그룹 간 평균 차이 비교\n",
    "2. **VIF (Variance Inflation Factor)**: 다중공선성 진단"
   ]
  },
  {
   "cell_type": "code",
   "execution_count": 1,
   "id": "4b365eb5",
   "metadata": {},
   "outputs": [],
   "source": [
    "\n",
    "import pandas as pd\n",
    "from scipy.stats import ttest_ind\n",
    "from statsmodels.stats.outliers_influence import variance_inflation_factor\n",
    "import statsmodels.api as sm\n",
    "\n",
    "# 데이터 로드\n",
    "df = pd.read_csv(\"ts2000_y_processed_v1.csv\")\n"
   ]
  },
  {
   "cell_type": "code",
   "execution_count": 2,
   "id": "1af3f6f0",
   "metadata": {},
   "outputs": [
    {
     "name": "stdout",
     "output_type": "stream",
     "text": [
      "t-statistic: 8.423209051226166\n",
      "p-value: 9.017375368375119e-17\n"
     ]
    }
   ],
   "source": [
    "\n",
    "# t-test 분석\n",
    "group_0 = df[df[\"is_defaulted\"] == 0][\"영업이익_당기\"].dropna()\n",
    "group_1 = df[df[\"is_defaulted\"] == 1][\"영업이익_당기\"].dropna()\n",
    "\n",
    "t_stat, p_value = ttest_ind(group_0, group_1, equal_var=False)\n",
    "print(\"t-statistic:\", t_stat)\n",
    "print(\"p-value:\", p_value)\n"
   ]
  },
  {
   "cell_type": "markdown",
   "id": "57112a4b",
   "metadata": {},
   "source": [
    "**해석**:\n",
    "\n",
    "- t-test 결과에서 p-value < 0.05이면 두 그룹의 평균 차이는 통계적으로 유의미합니다.\n",
    "- 본 예시에서는 `영업이익_당기` 값이 `부도기업`과 `비부도기업` 간에 차이가 있음을 시사합니다."
   ]
  },
  {
   "cell_type": "code",
   "execution_count": 3,
   "id": "d47cad32",
   "metadata": {},
   "outputs": [
    {
     "name": "stdout",
     "output_type": "stream",
     "text": [
      "  Variable       VIF\n",
      "0    const  1.025354\n",
      "1  영업이익_당기  2.010699\n",
      "2  자산총계_당기  7.442136\n",
      "3  부채총계_당기  5.590672\n"
     ]
    }
   ],
   "source": [
    "\n",
    "# VIF 분석\n",
    "vif_vars = [\"영업이익_당기\", \"자산총계_당기\", \"부채총계_당기\"]\n",
    "vif_data = df[vif_vars].dropna()\n",
    "vif_data_const = sm.add_constant(vif_data)\n",
    "\n",
    "vif_result = pd.DataFrame({\n",
    "    \"Variable\": vif_data_const.columns,\n",
    "    \"VIF\": [variance_inflation_factor(vif_data_const.values, i) for i in range(vif_data_const.shape[1])]\n",
    "})\n",
    "\n",
    "print(vif_result)\n"
   ]
  },
  {
   "cell_type": "markdown",
   "id": "957ad08e",
   "metadata": {},
   "source": [
    "**해석**:\n",
    "\n",
    "- VIF 값이 5 이상이면 다중공선성을 의심할 수 있습니다.\n",
    "- `자산총계_당기`와 `부채총계_당기`는 비교적 높은 VIF 값을 보이며, 다중공선성에 유의해야 합니다."
   ]
  }
 ],
 "metadata": {
  "kernelspec": {
   "display_name": "Python 3",
   "language": "python",
   "name": "python3"
  },
  "language_info": {
   "codemirror_mode": {
    "name": "ipython",
    "version": 3
   },
   "file_extension": ".py",
   "mimetype": "text/x-python",
   "name": "python",
   "nbconvert_exporter": "python",
   "pygments_lexer": "ipython3",
   "version": "3.11.9"
  }
 },
 "nbformat": 4,
 "nbformat_minor": 5
}
